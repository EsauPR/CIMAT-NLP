{
 "cells": [
  {
   "cell_type": "markdown",
   "metadata": {},
   "source": [
    "# Oscar Esaú Peralta Rosales\n",
    "# Tarea 1: Fundamentos de Minería de Texto"
   ]
  },
  {
   "cell_type": "markdown",
   "metadata": {},
   "source": [
    "## Actividad 1: Procesamiento básico"
   ]
  },
  {
   "cell_type": "code",
   "execution_count": 1,
   "metadata": {},
   "outputs": [],
   "source": [
    "import unidecode\n",
    "import nltk\n",
    "\n",
    "from nltk.tokenize import RegexpTokenizer\n",
    "from nltk.corpus import stopwords\n",
    "from nltk.text import Text\n",
    "from nltk import FreqDist\n",
    "\n",
    "\n",
    "from bs4 import BeautifulSoup\n",
    "from matplotlib import pyplot as plt\n"
   ]
  },
  {
   "cell_type": "markdown",
   "metadata": {},
   "source": [
    "### 1. Descargue una página web del top de noticias de Google News, guárdela en un archivo de texto plano.\n"
   ]
  },
  {
   "cell_type": "code",
   "execution_count": 2,
   "metadata": {},
   "outputs": [],
   "source": [
    "file_name = './data/gnews2.html'"
   ]
  },
  {
   "cell_type": "markdown",
   "metadata": {},
   "source": [
    "### 2. Investigue el uso de la librería BeautifulSoup de Python para limpiar el formato html de la página.\n"
   ]
  },
  {
   "cell_type": "code",
   "execution_count": 3,
   "metadata": {},
   "outputs": [],
   "source": [
    "html = \"\"\n",
    "\n",
    "with open(file_name) as fs:\n",
    "    for line in fs:\n",
    "        html += \" \" + line\n",
    "\n",
    "soup = BeautifulSoup(html, 'html.parser')\n"
   ]
  },
  {
   "cell_type": "code",
   "execution_count": 4,
   "metadata": {},
   "outputs": [],
   "source": [
    "\n",
    "content = soup.find(class_='field field-name-body field-type-text-with-summary field-label-hidden')\n",
    "text = \" \".join([p.text for p in content.find_all('p')])"
   ]
  },
  {
   "cell_type": "code",
   "execution_count": 5,
   "metadata": {},
   "outputs": [
    {
     "data": {
      "text/plain": [
       "'la organizacion mundial de la salud (oms) indico el lunes que el numero de nuevos casos de coronavirus registrados en el mundo en las ultimas 24 horas es ampliamente superior a los detectados en china. \"en las ultimas 24 horas, hubo cerca de nueve veces mas nuevos casos de covid-19 registrados fuera de china que en china\", declaro el director de la oms, tedros adhanom ghebreyesus, en conferencia de prensa. \"si esta covid-19 fuera una epidemia de gripe, actualmente asistiriamos a una transmision generalizada en todo el mundo, y los esfuerzos para contenerla o enlentecerla serian infructuosos\", afirmo. tambien lee: ?que es una pandemia? asegurando que \"gracias a medidas precoces y fuertes, los paises pueden detener la transmision\" del coronavirus.  la epidemia del nuevo coronavirus, que supero este lunes los 3 mil muertos, sigue progresando en el mundo, lo que obligo a la union europea (ue) a aumentar su nivel de alerta en pleno contexto de temor mundial sobre sus consecuencias para la economia. tambien lee: ?quienes son mas propensos a contraer coronavirus?  la epidemia del covid-19 -el nombre de la enfermedad que provoca el virus- se debilita en china, donde hay drasticas medidas de cuarentena que afectan a mas de 50 millones de personas, pero en el resto del mundo la propagacion de la enfermedad se acelera. en china, donde el virus aparecio a fines de 2019, las autoridades anunciaron el lunes 42 nuevos decesos, lo que lleva el balance en el pais a 2 mil 912 muertos. tambien lee: ?cuales son los sintomas del coronavirus? los 202 nuevos casos de contagio senalados --que llevan el total por encima de 80 mil-- son, en cambio, el aumento diario mas debil desde enero. italia registro por su parte 500 casos el domingo, una cifra espectacular que lleva el numero de contagios a cerca de mil 700. al menos 34 personas han fallecido en este pais europeo, especialmente en las regiones del norte: lombardia, emilia-romana y veneto. ante la progresion del virus, la ue elevo este lunes su nivel de alerta a \"de moderado a alto\" tras un ultimo balance de 2 mil 100 casos confirmados en 18 paises. una tercera muerte anunciada en francia eleva el balance de muertos en el bloque al menos a 39.  la imagen insolita del temor al contagio se produjo este lunes en alemania, donde el ministro del interior horst seehofer se nego a estrechar la mano de la canciller angela merkel, una de las acciones recomendadas por los profesionales para evitar contaminarse. tambien lee: ministro de interior de alemania evita darle la mano a merkel por coronavirus en otras partes del mundo, el lunes se senalo un segundo contaminado en egipto, un pais que anuncio a mediados de febrero el primer caso en el continente africano, justo cuando los turistas empezaban a volver tras anos de disturbios por la revolucion de 2011. estados unidos informo de un segundo fallecimiento, con un total de 21 casos, a los que se anaden otros 47 de personas repatriadas del extranjero. en el continente americano, mexico, brasil, canada, republica dominicana y ecuador cuentan con personas contagiadas. en corea del sur, el segundo pais mas afectado, el lunes hubo otros 600 casos y ocho nuevos fallecimientos, por un total de 4 mil 300 contaminaciones y 26 muertos. el lider del movimiento religioso responsable de la mitad de casos presento disculpas por la responsabilidad de su organizacion en la propagacion. sigue las ultimas noticias sobre el coronavirus de wuhan aqui lsm'"
      ]
     },
     "execution_count": 5,
     "metadata": {},
     "output_type": "execute_result"
    }
   ],
   "source": [
    "text = unidecode.unidecode(text).lower()\n",
    "text"
   ]
  },
  {
   "cell_type": "markdown",
   "metadata": {},
   "source": [
    "### 3. Utilice el objeto RegexpTokenizer de nltk para leerlo, tokenizando con alguna expresión regular para sacar solo secuencias de caracteres de la \"a\" a la \"z\". Imprima como resultado los primeros 10 tokens."
   ]
  },
  {
   "cell_type": "code",
   "execution_count": 6,
   "metadata": {},
   "outputs": [],
   "source": [
    "tokenizer = RegexpTokenizer(r'[A-Za-z]+')"
   ]
  },
  {
   "cell_type": "code",
   "execution_count": 7,
   "metadata": {},
   "outputs": [
    {
     "name": "stdout",
     "output_type": "stream",
     "text": [
      "['la', 'organizacion', 'mundial', 'de', 'la', 'salud', 'oms', 'indico', 'el', 'lunes']\n"
     ]
    }
   ],
   "source": [
    "tokens = tokenizer.tokenize(text)\n",
    "\n",
    "print(tokens[:10])"
   ]
  },
  {
   "cell_type": "markdown",
   "metadata": {},
   "source": [
    "### 4. Cargue la lista de Tokens anteriores en un objeto Text de nltk."
   ]
  },
  {
   "cell_type": "code",
   "execution_count": 8,
   "metadata": {},
   "outputs": [],
   "source": [
    "ntext = Text(tokens)"
   ]
  },
  {
   "cell_type": "markdown",
   "metadata": {},
   "source": [
    "### 5. Visualice la concordancia de alguna palabra."
   ]
  },
  {
   "cell_type": "code",
   "execution_count": 9,
   "metadata": {},
   "outputs": [
    {
     "name": "stdout",
     "output_type": "stream",
     "text": [
      "Displaying 1 of 1 matches:\n",
      "la organizacion mundial de la salud oms indico el lunes que el numero de\n"
     ]
    }
   ],
   "source": [
    "ntext.concordance('salud')"
   ]
  },
  {
   "cell_type": "markdown",
   "metadata": {},
   "source": [
    "### 6. Imprima con matplotlib las 50 palabras más frecuentes cargadas en un objeto FreqDist de nltk. Antes de este paso remueva las stopword usando un recurso léxico en español de nltk.\n"
   ]
  },
  {
   "cell_type": "code",
   "execution_count": 10,
   "metadata": {},
   "outputs": [],
   "source": [
    "tokens = [token for token in tokens if token not in stopwords.words('spanish')]\n",
    "fdist = FreqDist(tokens)"
   ]
  },
  {
   "cell_type": "code",
   "execution_count": 11,
   "metadata": {},
   "outputs": [
    {
     "name": "stdout",
     "output_type": "stream",
     "text": [
      "[('casos', 8), ('lunes', 7), ('coronavirus', 7), ('mil', 6), ('nuevos', 5), ('mundo', 5), ('china', 5), ('mas', 5), ('tambien', 4), ('lee', 4), ('muertos', 4), ('personas', 4), ('pais', 4), ('ultimas', 3), ('covid', 3), ('epidemia', 3), ('virus', 3), ('balance', 3), ('total', 3), ('segundo', 3), ('organizacion', 2), ('mundial', 2), ('oms', 2), ('numero', 2), ('registrados', 2), ('horas', 2), ('cerca', 2), ('transmision', 2), ('medidas', 2), ('paises', 2), ('sigue', 2), ('ue', 2), ('nivel', 2), ('alerta', 2), ('temor', 2), ('enfermedad', 2), ('propagacion', 2), ('lleva', 2), ('contagio', 2), ('menos', 2), ('tras', 2), ('alemania', 2), ('ministro', 2), ('interior', 2), ('mano', 2), ('merkel', 2), ('continente', 2), ('salud', 1), ('indico', 1), ('ampliamente', 1)]\n"
     ]
    }
   ],
   "source": [
    "fdist_sorted = sorted(fdist.items(), key=lambda data: data[1], reverse=True)\n",
    "print(fdist_sorted[:50])\n"
   ]
  },
  {
   "cell_type": "code",
   "execution_count": 12,
   "metadata": {},
   "outputs": [
    {
     "data": {
      "image/png": "[encoded data removed]",
      "text/plain": [
       "<Figure size 1440x720 with 1 Axes>"
      ]
     },
     "metadata": {
      "needs_background": "light"
     },
     "output_type": "display_data"
    }
   ],
   "source": [
    "plt.figure(figsize=(20,10))\n",
    "plt.title('50 palabras más frecuentes')\n",
    "plt.barh(*zip(*fdist_sorted[:50]))\n",
    "plt.show()"
   ]
  },
  {
   "cell_type": "markdown",
   "metadata": {},
   "source": [
    "### 7. Cuente las palabras del vocabulario del documento en cuestión."
   ]
  },
  {
   "cell_type": "code",
   "execution_count": 13,
   "metadata": {},
   "outputs": [
    {
     "name": "stdout",
     "output_type": "stream",
     "text": [
      "Palabras del vocabulario: 210\n"
     ]
    }
   ],
   "source": [
    "# palabras del vocabulario\n",
    "print('Palabras del vocabulario: %d' % len(set(tokens)))"
   ]
  },
  {
   "cell_type": "markdown",
   "metadata": {},
   "source": [
    "### 8. Imprima las palabras con logitud menor a 5 caracteres pero con frecuencia mayor a 10, usando list-comprehension de python."
   ]
  },
  {
   "cell_type": "code",
   "execution_count": 14,
   "metadata": {},
   "outputs": [
    {
     "name": "stdout",
     "output_type": "stream",
     "text": [
      "[]\n"
     ]
    }
   ],
   "source": [
    "print([ word for word, frec in fdist.items() if len(word) < 5 and frec > 10 ])"
   ]
  },
  {
   "cell_type": "markdown",
   "metadata": {},
   "source": [
    "### 9. Calcule la riqueza léxica."
   ]
  },
  {
   "cell_type": "code",
   "execution_count": 15,
   "metadata": {},
   "outputs": [
    {
     "name": "stdout",
     "output_type": "stream",
     "text": [
      "1.457142857142857\n"
     ]
    }
   ],
   "source": [
    "def lex_div(tokens):\n",
    "    \"\"\" Longitud del texto / palabras únicas \"\"\"\n",
    "    return len(tokens)/len(set(tokens))\n",
    "\n",
    "print(lex_div(tokens))"
   ]
  },
  {
   "cell_type": "markdown",
   "metadata": {},
   "source": [
    "## Actividad 2: Cargando un corpus"
   ]
  },
  {
   "cell_type": "code",
   "execution_count": 16,
   "metadata": {},
   "outputs": [],
   "source": [
    "import csv\n",
    "import math\n",
    "\n",
    "from collections import defaultdict\n",
    "\n",
    "import numpy as np\n",
    "\n",
    "from tqdm import tqdm\n",
    "from nltk.corpus import CategorizedPlaintextCorpusReader\n",
    "from nltk.tokenize import WordPunctTokenizer \n",
    "from nltk.tokenize import TweetTokenizer\n",
    "from nltk import ConditionalFreqDist"
   ]
  },
  {
   "cell_type": "markdown",
   "metadata": {},
   "source": [
    "### 1. Cargue el dataset de training de agresividad como un corpus de categorías en nltk. Para referencia, un corpus de categorias es como el Brown corpus visto en clase, y necesita construirse a base del objeto CategorizedPlaintextCorpusReader de nltk.\n"
   ]
  },
  {
   "cell_type": "code",
   "execution_count": 17,
   "metadata": {},
   "outputs": [],
   "source": [
    "mex_corpus = CategorizedPlaintextCorpusReader('./data/corpus/', r'.*\\.txt', cat_pattern=r'(\\w+)/*')"
   ]
  },
  {
   "cell_type": "code",
   "execution_count": 18,
   "metadata": {},
   "outputs": [
    {
     "data": {
      "text/plain": [
       "['mex_train', 'mex_train_labels', 'mex_val', 'mex_val_labels']"
      ]
     },
     "execution_count": 18,
     "metadata": {},
     "output_type": "execute_result"
    }
   ],
   "source": [
    "mex_corpus.categories()"
   ]
  },
  {
   "cell_type": "code",
   "execution_count": 19,
   "metadata": {},
   "outputs": [
    {
     "data": {
      "text/plain": [
       "['mex_train.txt', 'mex_train_labels.txt', 'mex_val.txt', 'mex_val_labels.txt']"
      ]
     },
     "execution_count": 19,
     "metadata": {},
     "output_type": "execute_result"
    }
   ],
   "source": [
    "mex_corpus.fileids()"
   ]
  },
  {
   "cell_type": "markdown",
   "metadata": {},
   "source": [
    "### 2.  Tokenize cada documento del dataset usando el objeto WordPunctTokenizer de nltk. Imprima la secuencia de tokens de los diez primeros tweets del dataset de agresividad."
   ]
  },
  {
   "cell_type": "code",
   "execution_count": 20,
   "metadata": {},
   "outputs": [
    {
     "name": "stdout",
     "output_type": "stream",
     "text": [
      "['lo', 'peor', 'de', 'todo', 'es', 'que', 'no', 'me', 'dan', 'por', 'un', 'tiempo', 'y', 'luego', 'vuelven', 'estoy', 'hasta', 'la', 'verga', 'de', 'estl']\n",
      "['a', 'la', 'vga', 'no', 'seas', 'mamón', '45', 'putos', 'minutos', 'después', 'me', 'dices', 'que', 'apenas', 'sales', 'no', 'me', 'querías', 'avisar', 'en', '3', 'horas', '?', '😑']\n",
      "['considero', 'que', 'lo', 'más', 'conveniente', 'seria', 'que', 'lo', 'retes', 'a', 'unos', 'vergazos', 'mi', 'jelipe', '!', 'rómpele', 'la', 'madre', 'a', 'ese', 'pinchi', 'joto', '!']\n",
      "['el', 'marica', 'de', 'mi', 'ex', 'me', 'tiene', 'bloqueada', 'de', 'todo', 'así', 'uno', 'no', 'puede', 'admirar', 'la', '\"', 'belleza', '\"', 'de', 'su', 'garnacha', '😂']\n",
      "['mujer', 'despechadaya', 'pinche', 'amlo', 'hazle', 'esta', 'que', 'se', 'pela', 'la', 'loca', '#', 'reynosafollow', '#', 'reynosa']\n",
      "['putos', '.', 'no', 'tienen', 'madre', '.', 'ambriados', 'mantenidos', '.', 'ojetes', '.', 'como', 'es', 'posible', '.', 'mejor', 'matarlos']\n",
      "['ustedes', 'si', 'puden', 'andar', 'de', 'chanceros', 'pero', 'cuidadito', 'y', 'seamos', 'nosotras', 'porque', 'luego', 'luego', 'empiezan', 'a', 'mamar', 'hijos', 'de', 'la', 'chingada', '.']\n",
      "['@', 'usuario', 'jajjaja', 'te', 'digo', 'esa', 'madre', 'si', 'está', 'buena', 'ajjaja']\n",
      "['odio', 'los', 'putos', 'trámites', 'de', 'titulación', '😡😡😡😡😡😡😡😡😡😡😡', 'pero', 'me', 'urge', 'la', 'precedula', '.']\n",
      "['@', 'usuario', 'no', 'te', 'equivocabas', 'mi', 'madre', 'y', 'tu', 'tenían', 'muchísima', 'razón', 'siempre', 'es', 'mejor', 'lo', 'que', 'viene', '💚']\n"
     ]
    }
   ],
   "source": [
    "tk = WordPunctTokenizer() \n",
    "docs = [tk.tokenize(tweet) for tweet in mex_corpus.raw('mex_train.txt').split('\\n') if tweet ]\n",
    "\n",
    "for tokens in docs[:10]:\n",
    "    print(tokens)"
   ]
  },
  {
   "cell_type": "markdown",
   "metadata": {},
   "source": [
    "### 3. Tokenize cada documento del dataset usando el objeto TweetTokenizer de nltk. Imprima la secuencia de tokens de los diez primeros tweets del dataset de agresividad.\n"
   ]
  },
  {
   "cell_type": "code",
   "execution_count": 21,
   "metadata": {},
   "outputs": [
    {
     "name": "stdout",
     "output_type": "stream",
     "text": [
      "['lo', 'peor', 'de', 'todo', 'es', 'que', 'no', 'me', 'dan', 'por', 'un', 'tiempo', 'y', 'luego', 'vuelven', 'estoy', 'hasta', 'la', 'verga', 'de', 'estl']\n",
      "['a', 'la', 'vga', 'no', 'seas', 'mamón', '45', 'putos', 'minutos', 'después', 'me', 'dices', 'que', 'apenas', 'sales', 'no', 'me', 'querías', 'avisar', 'en', '3', 'horas', '?', '😑']\n",
      "['considero', 'que', 'lo', 'más', 'conveniente', 'seria', 'que', 'lo', 'retes', 'a', 'unos', 'vergazos', 'mi', 'jelipe', '!', 'rómpele', 'la', 'madre', 'a', 'ese', 'pinchi', 'joto', '!']\n",
      "['el', 'marica', 'de', 'mi', 'ex', 'me', 'tiene', 'bloqueada', 'de', 'todo', 'así', 'uno', 'no', 'puede', 'admirar', 'la', '\"', 'belleza', '\"', 'de', 'su', 'garnacha', '😂']\n",
      "['mujer', 'despechadaya', 'pinche', 'amlo', 'hazle', 'esta', 'que', 'se', 'pela', 'la', 'loca', '#reynosafollow', '#reynosa']\n",
      "['putos', '.', 'no', 'tienen', 'madre', '.', 'ambriados', 'mantenidos', '.', 'ojetes', '.', 'como', 'es', 'posible', '.', 'mejor', 'matarlos']\n",
      "['ustedes', 'si', 'puden', 'andar', 'de', 'chanceros', 'pero', 'cuidadito', 'y', 'seamos', 'nosotras', 'porque', 'luego', 'luego', 'empiezan', 'a', 'mamar', 'hijos', 'de', 'la', 'chingada', '.']\n",
      "['@usuario', 'jajjaja', 'te', 'digo', 'esa', 'madre', 'si', 'está', 'buena', 'ajjaja']\n",
      "['odio', 'los', 'putos', 'trámites', 'de', 'titulación', '😡', '😡', '😡', 'pero', 'me', 'urge', 'la', 'precedula', '.']\n",
      "['@usuario', 'no', 'te', 'equivocabas', 'mi', 'madre', 'y', 'tu', 'tenían', 'muchísima', 'razón', 'siempre', 'es', 'mejor', 'lo', 'que', 'viene', '💚']\n"
     ]
    }
   ],
   "source": [
    "tk = TweetTokenizer() \n",
    "docs = [tk.tokenize(tweet) for tweet in mex_corpus.raw('mex_train.txt').split('\\n') if tweet ]\n",
    "\n",
    "for tokens in docs[:10]:\n",
    "    print(tokens)"
   ]
  },
  {
   "cell_type": "markdown",
   "metadata": {},
   "source": [
    "### 4. Ordene los tweets por clase, y luego dentro de los tweets agresivos y no agresivos, ordénelos alfabéticamente antes de continuar con el siguiente punto."
   ]
  },
  {
   "cell_type": "code",
   "execution_count": 22,
   "metadata": {},
   "outputs": [],
   "source": [
    "clases = [int(tk.tokenize(_class)[0]) for _class in mex_corpus.raw('mex_train_labels.txt').split('\\n') if _class ]"
   ]
  },
  {
   "cell_type": "code",
   "execution_count": 23,
   "metadata": {},
   "outputs": [],
   "source": [
    "def get_docs_by_class(docs, clases, _class):\n",
    "    _docs = [doc for index, doc in enumerate(docs) if clases[index] == _class ]\n",
    "    return sorted(docs, key=lambda tokens: ' '.join(tokens))\n",
    "\n",
    "docs_by_class = { _class: get_docs_by_class(docs, clases, _class) for _class in set(clases) }"
   ]
  },
  {
   "cell_type": "code",
   "execution_count": 24,
   "metadata": {},
   "outputs": [
    {
     "name": "stdout",
     "output_type": "stream",
     "text": [
      "0 ['!', 'es', 'verdad', '!', '!', 'luis', 'le', 'manda', 'un', 'saludo', 'a', 'una', 'chica', 'luchona', 'y', 'luis', 'la', 'admira', '!', '!', 'y', 'le', 'doy', 'toda', 'la', 'razón', '!', '!', 'también', 'me', 'sorprendio', '!']\n",
      "0 ['!', 'omg', 'fire', '!', '!', '!', 'ahi', 'todas', 'cantando', '😂', 'y', 'como', 'estabamos', 'en', 'el', 'receso', 'todos', 'los', 'demás', 'estaban', 'como', 'wtf', 'y', 'otros', 'como', 'yeah', '😂', 'la', 'loca', 'de', 'yo', 'gritando']\n",
      "0 ['\"', '@usuario', 'me', 'traes', 'bien', 'enamorada', 'porque', 'pendeja', 'ya', 'estaba', '.', '\"', 'si', '.']\n",
      "0 ['\"', 'abre', 'los', 'putos', 'ojos', '\"', 'y', 'otras', 'maneras', 'de', 'decirle', 'a', 'la', 'gente', 'que', 'por', 'favor', 'se', 'fije', '.']\n",
      "0 ['\"', 'aparte', 'de', 'putas', 'pendejas', '\"', 'quién', 'nos', 'dijo', 'esa', 'frase', 'alguna', 'vez', '@usuario', '?', '?', '?', '😂', '😂', '😂']\n",
      "0 ['\"', 'aplicaré', 'para', 'medicina', 'familiar', 'y', 'me', 'vale', 'verga', 'lo', 'que', 'piensen', 'los', 'demás', '.', 'estudiaré', 'un', 'ptro', 'y', 'sacaré', '>', '80', 'en', 'el', 'enarm', '\"']\n",
      "0 ['\"', 'aquí', 'todos', 'son', 'bien', 'putos', '\"', '-', '@usuario', 'frustrada', 'con', 'los', 'franceses', '.', '😂']\n",
      "0 ['\"', 'asiáticos', 'con', 'cabello', 'de', 'tazón', '\"', 'me', 'quiero', 'reír', 'pero', 'mi', 'papá', 'me', 'va', 'a', 'ver', 'y', 'va', 'a', 'decir', 'que', 'estoy', 'loca', 'xkksndk']\n",
      "0 ['\"', 'cuando', 'apenas', 'entraste', 'a', 'la', 'escuela', 'y', 'ya', 'valiste', 'verga', 'en', 'todas', 'las', 'materias', '\"', ':', 'v']\n",
      "0 ['\"', 'cuando', 'te', 'llamaron', 'llorona', 'pobre', 'gorda', 'o', 'loca', 'y', 'te', 'convirtieron', 'en', 'una', 'desconocida', 'bebíste', 'su', 'ácido', 'y', 'lo', 'ocultaste', '\"']\n",
      "1 ['!', 'es', 'verdad', '!', '!', 'luis', 'le', 'manda', 'un', 'saludo', 'a', 'una', 'chica', 'luchona', 'y', 'luis', 'la', 'admira', '!', '!', 'y', 'le', 'doy', 'toda', 'la', 'razón', '!', '!', 'también', 'me', 'sorprendio', '!']\n",
      "1 ['!', 'omg', 'fire', '!', '!', '!', 'ahi', 'todas', 'cantando', '😂', 'y', 'como', 'estabamos', 'en', 'el', 'receso', 'todos', 'los', 'demás', 'estaban', 'como', 'wtf', 'y', 'otros', 'como', 'yeah', '😂', 'la', 'loca', 'de', 'yo', 'gritando']\n",
      "1 ['\"', '@usuario', 'me', 'traes', 'bien', 'enamorada', 'porque', 'pendeja', 'ya', 'estaba', '.', '\"', 'si', '.']\n",
      "1 ['\"', 'abre', 'los', 'putos', 'ojos', '\"', 'y', 'otras', 'maneras', 'de', 'decirle', 'a', 'la', 'gente', 'que', 'por', 'favor', 'se', 'fije', '.']\n",
      "1 ['\"', 'aparte', 'de', 'putas', 'pendejas', '\"', 'quién', 'nos', 'dijo', 'esa', 'frase', 'alguna', 'vez', '@usuario', '?', '?', '?', '😂', '😂', '😂']\n",
      "1 ['\"', 'aplicaré', 'para', 'medicina', 'familiar', 'y', 'me', 'vale', 'verga', 'lo', 'que', 'piensen', 'los', 'demás', '.', 'estudiaré', 'un', 'ptro', 'y', 'sacaré', '>', '80', 'en', 'el', 'enarm', '\"']\n",
      "1 ['\"', 'aquí', 'todos', 'son', 'bien', 'putos', '\"', '-', '@usuario', 'frustrada', 'con', 'los', 'franceses', '.', '😂']\n",
      "1 ['\"', 'asiáticos', 'con', 'cabello', 'de', 'tazón', '\"', 'me', 'quiero', 'reír', 'pero', 'mi', 'papá', 'me', 'va', 'a', 'ver', 'y', 'va', 'a', 'decir', 'que', 'estoy', 'loca', 'xkksndk']\n",
      "1 ['\"', 'cuando', 'apenas', 'entraste', 'a', 'la', 'escuela', 'y', 'ya', 'valiste', 'verga', 'en', 'todas', 'las', 'materias', '\"', ':', 'v']\n",
      "1 ['\"', 'cuando', 'te', 'llamaron', 'llorona', 'pobre', 'gorda', 'o', 'loca', 'y', 'te', 'convirtieron', 'en', 'una', 'desconocida', 'bebíste', 'su', 'ácido', 'y', 'lo', 'ocultaste', '\"']\n"
     ]
    }
   ],
   "source": [
    "for _class in docs_by_class.keys():\n",
    "    for doc in docs_by_class[_class][:10]:\n",
    "        print(_class, doc)"
   ]
  },
  {
   "cell_type": "markdown",
   "metadata": {},
   "source": [
    "### 5. Para los primeros 50 tweets de la clase positiva, imprima por tweet la longitud promedio en palabras, longitud promedio en caracteres, y la diversidad léxica, i.e. palabras únicas en el tweet entre la longitud del tweet en palabras."
   ]
  },
  {
   "cell_type": "code",
   "execution_count": 25,
   "metadata": {},
   "outputs": [],
   "source": [
    "def get_char_mean_length(tweet):\n",
    "    w_lens = np.array([len(token) for token in tweet])\n",
    "    return np.mean(w_lens)"
   ]
  },
  {
   "cell_type": "code",
   "execution_count": 26,
   "metadata": {},
   "outputs": [
    {
     "name": "stdout",
     "output_type": "stream",
     "text": [
      "longitud promedio en palabras: 20.800000\n"
     ]
    }
   ],
   "source": [
    "quantity = 50\n",
    "\n",
    "words_mean = [len(tweet) for tweet in docs_by_class[1][:quantity]]\n",
    "print(\"longitud promedio en palabras: %f\" % (np.mean(words_mean)))"
   ]
  },
  {
   "cell_type": "code",
   "execution_count": 27,
   "metadata": {},
   "outputs": [
    {
     "name": "stdout",
     "output_type": "stream",
     "text": [
      "Longitud promedio en caracteres de los tweets: 3.768627\n",
      "\n",
      "Longitud promedio en caracteres por tweet:\n",
      "3.125 3.500 3.929 3.300 3.300 3.731 3.867 3.440 3.722 4.409 4.000 4.071 3.000 4.100 3.545 3.682 3.842 2.706 4.130 3.469 3.500 3.640 2.964 3.231 3.190 4.167 4.250 3.793 3.138 5.688 4.480 2.812 3.435 3.950 3.121 3.529 4.538 3.500 4.136 3.538 3.864 3.810 3.400 3.150 3.611 3.786 3.583 5.158 5.900 4.700 "
     ]
    }
   ],
   "source": [
    "chars_means = [get_char_mean_length(tweet) for tweet in docs_by_class[1][:quantity]]\n",
    "print(\"Longitud promedio en caracteres de los tweets: %f\\n\" % (np.mean(chars_means)))\n",
    "\n",
    "print(\"Longitud promedio en caracteres por tweet:\")\n",
    "for lenght in chars_means:\n",
    "    print(\"%.3f\" %lenght, end=' ')"
   ]
  },
  {
   "cell_type": "code",
   "execution_count": 28,
   "metadata": {},
   "outputs": [
    {
     "name": "stdout",
     "output_type": "stream",
     "text": [
      "Diversidad Léxica por tweet:\n",
      "Diversidad 1.524 => tweet: ['!', 'es', 'verdad', '!', '!', 'luis', 'le', 'manda', 'un', 'saludo', 'a', 'una', 'chica', 'luchona', 'y', 'luis', 'la', 'admira', '!', '!', 'y', 'le', 'doy', 'toda', 'la', 'razón', '!', '!', 'también', 'me', 'sorprendio', '!']\n",
      "Diversidad 1.280 => tweet: ['!', 'omg', 'fire', '!', '!', '!', 'ahi', 'todas', 'cantando', '😂', 'y', 'como', 'estabamos', 'en', 'el', 'receso', 'todos', 'los', 'demás', 'estaban', 'como', 'wtf', 'y', 'otros', 'como', 'yeah', '😂', 'la', 'loca', 'de', 'yo', 'gritando']\n",
      "Diversidad 1.167 => tweet: ['\"', '@usuario', 'me', 'traes', 'bien', 'enamorada', 'porque', 'pendeja', 'ya', 'estaba', '.', '\"', 'si', '.']\n",
      "Diversidad 1.053 => tweet: ['\"', 'abre', 'los', 'putos', 'ojos', '\"', 'y', 'otras', 'maneras', 'de', 'decirle', 'a', 'la', 'gente', 'que', 'por', 'favor', 'se', 'fije', '.']\n",
      "Diversidad 1.333 => tweet: ['\"', 'aparte', 'de', 'putas', 'pendejas', '\"', 'quién', 'nos', 'dijo', 'esa', 'frase', 'alguna', 'vez', '@usuario', '?', '?', '?', '😂', '😂', '😂']\n",
      "Diversidad 1.083 => tweet: ['\"', 'aplicaré', 'para', 'medicina', 'familiar', 'y', 'me', 'vale', 'verga', 'lo', 'que', 'piensen', 'los', 'demás', '.', 'estudiaré', 'un', 'ptro', 'y', 'sacaré', '>', '80', 'en', 'el', 'enarm', '\"']\n",
      "Diversidad 1.071 => tweet: ['\"', 'aquí', 'todos', 'son', 'bien', 'putos', '\"', '-', '@usuario', 'frustrada', 'con', 'los', 'franceses', '.', '😂']\n",
      "Diversidad 1.190 => tweet: ['\"', 'asiáticos', 'con', 'cabello', 'de', 'tazón', '\"', 'me', 'quiero', 'reír', 'pero', 'mi', 'papá', 'me', 'va', 'a', 'ver', 'y', 'va', 'a', 'decir', 'que', 'estoy', 'loca', 'xkksndk']\n",
      "Diversidad 1.059 => tweet: ['\"', 'cuando', 'apenas', 'entraste', 'a', 'la', 'escuela', 'y', 'ya', 'valiste', 'verga', 'en', 'todas', 'las', 'materias', '\"', ':', 'v']\n",
      "Diversidad 1.158 => tweet: ['\"', 'cuando', 'te', 'llamaron', 'llorona', 'pobre', 'gorda', 'o', 'loca', 'y', 'te', 'convirtieron', 'en', 'una', 'desconocida', 'bebíste', 'su', 'ácido', 'y', 'lo', 'ocultaste', '\"']\n",
      "Diversidad 1.067 => tweet: ['\"', 'el', 'corazón', 'tiene', 'más', 'cuartos', 'que', 'un', 'hotel', 'de', 'putas', '\"', 'gabriel', 'garcia', 'marquez', '.']\n",
      "Diversidad 1.077 => tweet: ['\"', 'hay', 'besos', 'que', 'producen', 'desvaríos', 'de', 'amorosa', 'pasión', 'ardiente', 'y', 'loca', 'tú', 'los', 'conoces', 'bien', 'son', 'besos', 'míos', 'inventados', 'por', 'mí', 'para', 'tu', 'boca', '\"', '.', 'gm']\n",
      "Diversidad 1.071 => tweet: ['\"', 'hazte', 'a', 'la', 'verga', 'puto', '.', '\"', '—', 'yo', 'siendo', 'una', 'dama', 'al', 'volante']\n",
      "Diversidad 1.053 => tweet: ['\"', 'hijo', 'de', 'las', '60', 'mil', 'putas', '\"', ':', 'del', 'hondureño', 'costly', 'con', 'harto', 'cariño', 'al', 'silbante', 'mexicano', 'césar', 'ramos']\n",
      "Diversidad 1.158 => tweet: ['\"', 'las', 'cosas', 'pasan', 'por', 'algo', '\"', 'alguien', 'que', 'te', 'anima', 'por', 'puro', 'compromiso', 'y', 'que', 'le', 'vale', 'verga', 'tu', 'vida', '.']\n",
      "Diversidad 1.222 => tweet: ['\"', 'llégale', 'a', 'la', 'verga', 'pinche', 'pendejo', '\"', 'es', 'el', 'título', 'de', 'una', 'canción', 'que', 'estoy', 'escribiendo', '.', 'es', 'de', 'amor', '.']\n",
      "Diversidad 1.056 => tweet: ['\"', 'marica', 'masculina', '\"', 'hay', 'tantas', 'cosas', 'mal', 'en', 'esas', 'palabras', 'que', 'no', 'sé', 'ni', 'por', 'donde', 'empezar', '.']\n",
      "Diversidad 1.133 => tweet: ['\"', 'me', 'siento', 'de', 'la', 'verga', '\"', '—', 'yo', 'el', '90', 'por', 'ciento', 'de', 'las', 'veces', '.']\n",
      "Diversidad 1.045 => tweet: ['\"', 'mira', 'como', 'se', 'puso', 'el', 'concierto', 'en', 'luna', 'park', 'así', 'es', 'que', 've', 'y', 'compra', 'tus', 'putos', 'boletos', 'alv', 'prro', '\"', '#numarketingdigital']\n",
      "Diversidad 1.067 => tweet: ['\"', 'my', 'life', 'as', 'eva', '\"', 'es', 'bien', 'putita', 'pero', 'ni', 'lo', 'esconde', 'jajaja', 'me', 'da', 'risa', 'cuando', 'hace', 'videos', 'con', 'caspar', 'se', 've', 'la', 'tensión', 'sexual', 'entre', 'los', 'dos', '😂', '😂']\n",
      "Diversidad 1.048 => tweet: ['\"', 'no', 'me', 'importa', 'lo', 'que', 'digan', 'esos', 'putos', 'periodistas', '\"', '...', 'esto', 'es', 'callar', 'bocas', '(', 'a', 'medias', 'pues', ')', '.']\n",
      "Diversidad 1.316 => tweet: ['\"', 'no', 'me', 'importa', 'lo', 'que', 'digan', 'esos', 'putos', 'periodistas', 'la', 'puta', 'que', 'los', 'pario', 'oh', 'oh', 'oh', 'hay', 'que', 'alentar', 'a', 'la', 'selección', '\"']\n",
      "Diversidad 1.037 => tweet: ['\"', 'no', 'tener', 'datos', 'en', 'tu', 'celular', 'te', 'hace', 'ver', 'la', 'vida', 'de', 'otra', 'manera', '\"', '-', 'ey', 'aquí', 'hay', 'wifi', '!', '+', 'verga', 'wey', '¿', 'donde', '?']\n",
      "Diversidad 1.182 => tweet: ['\"', 'nunca', 'putas', 'se', 'dio', 'cuenta', '.', '\"', 'un', 'epitafio', 'que', 'diga', '.']\n",
      "Diversidad 1.167 => tweet: ['\"', 'oh', 'si', '@usuario', 'se', 'preguntaba', 'pero', 'ya', 'sabe', 'que', '@usuario', 'está', 'loca', 'y', 'que', 'le', 'ama', '🎶', '\"', ':', '3']\n",
      "Diversidad 1.059 => tweet: ['\"', 'perfect', 'putos', 'me', 'la', 'llevé', 'sin', 'replica', '\"', '-', 'aczino', '.', '(', 'guarden', 'el', 'twit', ')', '#batalladelosgallos']\n",
      "Diversidad 1.091 => tweet: ['\"', 'porque', 'mean', 'parados', 'piensan', 'q', 'son', 'hombres', '“', 'jajajajaja', 'q', 'hdp']\n",
      "Diversidad 1.208 => tweet: ['\"', 'que', 'ustedes', 'se', 'pesquen', 'de', 'la', 'verga', 'de', 'un', 'mosquito', 'para', 'ofenderse', 'es', 'otra', 'cosa', '🙄', '\"', '.', 'frase', 'célebre', 'de', '@usuario', 'en', 'una', 'camiseta', 'que', 'diga', '.']\n",
      "Diversidad 1.115 => tweet: ['\"', 'quien', 'sepa', '50', 'cosas', 'de', 'mi', 'le', 'pagó', 'una', 'peda', '\"', 'que', 'pinche', 'weba', 'mejor', 'me', 'la', 'pago', 'yo', 'y', 'tu', 'y', 'tus', 'juegos', 'váyanse', 'a', 'la', 'verga']\n",
      "Diversidad 1.067 => tweet: ['\"', 'quieres', 'saber', 'por', 'que', 'quiero', 'acabar', 'con', 'esta', 'loca', '?', '\"', '#mariaisabel', '#divinahelena', '#teamamostanto', '@usuario']\n",
      "Diversidad 1.250 => tweet: ['\"', 'representante', 'de', 'grupo', '\"', 'porque', '\"', 'la', 'pendeja', 'que', 'nos', 'soluciona', 'todo', 'cuando', 'nos', 'da', 'hueva', 'hacer', 'la', 'tarea', '\"', 'es', 'políticamente', 'incorrecto', '.']\n",
      "Diversidad 1.231 => tweet: ['\"', 'salto', 'como', 'loca', 'cuando', 'veo', 'como', 'tocas', 'el', 'balón', '.', '\"', '❤', '️', '⚽', '️']\n",
      "Diversidad 1.150 => tweet: ['\"', 'secu', 'ni', 'que', 'la', 'verga', 'hable', 'bien', 'hijo', 'de', 'su', 'pinche', 'madre', '\"', 'al', 'parecer', 'fue', 'la', 'respuesta', '.', 'nunca', 'más', '.']\n",
      "Diversidad 1.250 => tweet: ['\"', 'si', 'se', 'organizan', 'por', 'grupo', '...', '\"', 'no', 'se', 'organizan', 'ni', 'para', 'unas', 'putas', 'dispositivas', 'los', 'pendejos', '😒', '😒']\n",
      "Diversidad 1.435 => tweet: ['\"', 'si', 'te', 'quiere', 'vendrá', 'por', 'ti', '\"', '-', 'le', 'dijeron', 'a', 'ella', '.', '\"', 'si', 'la', 'quieres', 'déjala', 'ir', '\"', '-', 'le', 'dijeron', 'a', 'el', '.', 'moraleja', ':', 'putos', 'amigos', 'cabrones', '.']\n",
      "Diversidad 1.214 => tweet: ['\"', 'sonríele', 'a', 'todos', 'no', 'es', 'necesario', 'que', 'todos', 'sepan', 'que', 'te', 'pelan', 'la', 'verga', '.', '\"']\n",
      "Diversidad 1.130 => tweet: ['\"', 'soy', 'puta', 'porque', 'vivo', 'libremente', 'mi', 'sexualidad', '\"', '.', 'no', '.', 'las', 'putas', 'trabajan', 'y', 'cobran', 'tu', 'nomás', 'quieres', 'convivir', 'socialmente', 'con', 'discursos', 'guay', '.']\n",
      "Diversidad 1.273 => tweet: ['\"', 'traté', 'bien', 'a', 'varias', 'putas', 'y', 'traté', 'mal', 'a', 'quienes', 'me', 'querían', '\"']\n",
      "Diversidad 1.048 => tweet: ['\"', 'un', 'grupo', 'de', 'ciudadanos', 'con', 'banderas', 'españolas', '\"', '.', '¿', 'se', 'puede', 'dar', 'mas', 'puto', 'asco', '@usuario', 'son', 'putos', 'fachas', 'joder']\n",
      "Diversidad 1.083 => tweet: ['\"', 'vete', 'muchísimo', 'a', 'la', 'verga', 'hijo', 'de', 'tu', 'perra', 'bomba', 'madre', '\"']\n",
      "Diversidad 1.100 => tweet: ['\"', 'y', 'el', 'que', 'sea', 'tan', 'liberal', 'me', 'tiene', 'con', 'cierto', 'recelo', '\"', 'eso', 'me', 'pudo', 'de', 'mil', 'putas', 'manera', 'hahahahahahahaha', '.']\n",
      "Diversidad 1.105 => tweet: ['\"', 'y', 'no', 'me', 'importa', 'lo', 'que', 'digan', 'esos', 'putos', 'periodistas', 'la', 'puta', 'que', 'los', 'pareo', '\"', 'así', 'argentina', '.', '#messi']\n",
      "Diversidad 1.111 => tweet: ['\"', 'y', 'te', 'comes', 'todo', 'el', 'desodorante', 'putita', 'te', 'encanta', 'la', 'verga', 'hija', 'de', 'tu', 'puta', 'madre', '\"', ':', 'v']\n",
      "Diversidad 1.111 => tweet: ['\"', 'yo', 'no', 'puedo', 'creer', 'el', 'nivel', 'de', 'locura', 'que', 'manejas', '\"', 'ta', 'bienn', 'tan', 'loca', 'estoy', '?', '😂', '😂']\n",
      "Diversidad 1.125 => tweet: ['\"', 'yo', 'solo', 'creo', 'en', 'dios', 'cuando', 'me', 'está', 'cargando', 'la', 'verga', '\"', 'escuchado', 'en', 'esta', 'mesa', '😂']\n",
      "Diversidad 1.037 => tweet: ['\"', '¿', 'qué', 'tiene', 'que', 'ver', 'el', 'calentamiento', 'global', 'con', 'los', 'huracanes', '?', '\"', 'está', 'y', 'otras', 'razones', 'por', 'las', 'cuales', 'ya', 'nos', 'cargó', 'the', 'verga', 'word', '.']\n",
      "Diversidad 1.200 => tweet: ['#280caracteres', '?', '?', '?', 'basta', 'con', '18', 'chingas', 'a', 'tu', 'madre', '!']\n",
      "Diversidad 1.056 => tweet: ['#abrahammateoensg', 'te', 'quieres', 'casar', 'conmigo', '@usuario', 'te', 'amo', 'me', 'tienes', 'como', 'una', 'loca', 'enamorada', 'quedó', 'ser', 'tu', 'señorita', '♥']\n",
      "Diversidad 1.111 => tweet: ['#acropolispuebla', 'putos', 'rateros', 'de', 'mierda', 'no', 'respetan', 'lugar', 'de', 'compra']\n",
      "Diversidad 1.000 => tweet: ['#aestatardelefalta', 'toda', 'mi', 'tarea', 'del', 'puto', 'de', 'ociel', 'alv', '😭']\n"
     ]
    }
   ],
   "source": [
    "print(\"Diversidad Léxica por tweet:\")\n",
    "for tweet, lv in ((tweet, lex_div(tweet)) for tweet in docs_by_class[0][:quantity]):\n",
    "    print(\"Diversidad %.3f => tweet:\" %lv, tweet, end='\\n')"
   ]
  },
  {
   "cell_type": "markdown",
   "metadata": {},
   "source": [
    "### 6. Elabore un comentario sobre el punto anterior y si cree que este tipo de información podría ser útil para la detección de agresividad."
   ]
  },
  {
   "cell_type": "markdown",
   "metadata": {},
   "source": [
    "En promedio los tweets son muy cortos en este caso el promedio es de 21 palabras y se usan palabras simples de 3 o 4 letras. Al ser estos cortos la diversidad léxic es cercana a uno, puesto que no se repiten muchas palabras. \n",
    "\n",
    "No encuentro una relación de usar la información anterior para detectar agresividad. Intuitivamente los tweets con esta carácteristica son bastan más cortos pues son muy directos con el insulto u ofenza\n",
    "\n",
    "'#aestatardelefalta', 'toda', 'mi', 'tarea', 'del', 'puto', 'de', 'ociel', 'alv', '😭'\n",
    "\n",
    "'#acropolispuebla', 'putos', 'rateros', 'de', 'mierda', 'no', 'respetan', 'lugar', 'de', 'compra'"
   ]
  },
  {
   "cell_type": "markdown",
   "metadata": {},
   "source": [
    "### 7. Utilizando el objeto ConditionalFreqDist de nltk visualize de manera tabular la distribución de las 5 palabras con mayor TFIDF del corpus para cada clase. Elabore un comentario sobre esto.\n"
   ]
  },
  {
   "cell_type": "code",
   "execution_count": 29,
   "metadata": {},
   "outputs": [],
   "source": [
    "\n",
    "def compute_tfidf(corpus):\n",
    "    \"\"\"\n",
    "        TF(t) = (Number of times term t appears in a document) / (Total number of terms in the document)\n",
    "        IDF(t) = log_e(Total number of documents / Number of documents with term t in it)\n",
    "    \"\"\"\n",
    "    cfdist_tfidf = ConditionalFreqDist()\n",
    "    # cfdist_count = ConditionalFreqDist()\n",
    "    frecs_history = [FreqDist(doc) for doc in corpus]\n",
    "\n",
    "    tfidfs_log = defaultdict(list)\n",
    "\n",
    "    for index_doc, doc in enumerate(tqdm(corpus)):\n",
    "        fdist_doc = frecs_history[index_doc]\n",
    "        for word in fdist_doc:\n",
    "            tf = fdist_doc[word] / len(fdist_doc)\n",
    "            doc_count = np.sum([True if word in fh else False for fh in frecs_history])\n",
    "            idf = math.log(len(corpus) / doc_count)\n",
    "            cfdist_tfidf[index_doc][word] = tf * idf\n",
    "            # cfdist_count[index_doc][word] += 1\n",
    "            tfidfs_log[word].append(tf * idf)\n",
    "\n",
    "    # return cfdist_tfidf, cfdist_count, tfidfs_log\n",
    "    return cfdist_tfidf, tfidfs_log"
   ]
  },
  {
   "cell_type": "markdown",
   "metadata": {},
   "source": [
    "##### Histogramas del top 5 para la clase 0"
   ]
  },
  {
   "cell_type": "code",
   "execution_count": 30,
   "metadata": {},
   "outputs": [
    {
     "name": "stderr",
     "output_type": "stream",
     "text": [
      "100%|██████████| 5544/5544 [01:19<00:00, 70.03it/s]\n"
     ]
    }
   ],
   "source": [
    "cfdist_tfidf, tfidfs_log = compute_tfidf(docs_by_class[0])"
   ]
  },
  {
   "cell_type": "code",
   "execution_count": 31,
   "metadata": {},
   "outputs": [],
   "source": [
    "top = 5\n",
    "tfidf_top = sorted(tfidfs_log.items(), key=lambda item: np.sum(item[1]), reverse=True)[:top]"
   ]
  },
  {
   "cell_type": "code",
   "execution_count": 32,
   "metadata": {},
   "outputs": [
    {
     "data": {
      "image/png": "[encoded data removed]",
      "text/plain": [
       "<Figure size 1008x576 with 1 Axes>"
      ]
     },
     "metadata": {
      "needs_background": "light"
     },
     "output_type": "display_data"
    }
   ],
   "source": [
    "y = [cfdist_tfidf[doc].get(tfidf_top[0][0], 0) for doc in cfdist_tfidf.keys()]\n",
    "\n",
    "plt.figure(figsize=(14,8))\n",
    "plt.title('Ditribución del top 1 a través de los documentos')\n",
    "plt.xlabel = 'Quantity of components'\n",
    "plt.ylabel = 'Explained variance ratio'\n",
    "plt.bar(range(len(y)) , y)\n",
    "plt.show()"
   ]
  },
  {
   "cell_type": "code",
   "execution_count": 33,
   "metadata": {},
   "outputs": [
    {
     "data": {
      "image/png": "[encoded data removed]",
      "text/plain": [
       "<Figure size 1008x576 with 1 Axes>"
      ]
     },
     "metadata": {
      "needs_background": "light"
     },
     "output_type": "display_data"
    }
   ],
   "source": [
    "y = [cfdist_tfidf[doc].get(tfidf_top[1][0], 0) for doc in cfdist_tfidf.keys()]\n",
    "\n",
    "plt.figure(figsize=(14,8))\n",
    "plt.title('Ditribución del top 2 a través de los documentos')\n",
    "plt.xlabel = 'Quantity of components'\n",
    "plt.ylabel = 'Explained variance ratio'\n",
    "plt.bar(range(len(y)) , y)\n",
    "plt.show()"
   ]
  },
  {
   "cell_type": "code",
   "execution_count": 34,
   "metadata": {},
   "outputs": [
    {
     "data": {
      "image/png": "[encoded data removed]",
      "text/plain": [
       "<Figure size 1008x576 with 1 Axes>"
      ]
     },
     "metadata": {
      "needs_background": "light"
     },
     "output_type": "display_data"
    }
   ],
   "source": [
    "y = [cfdist_tfidf[doc].get(tfidf_top[2][0], 0) for doc in cfdist_tfidf.keys()]\n",
    "\n",
    "plt.figure(figsize=(14,8))\n",
    "plt.title('Ditribución del top 3 a través de los documentos')\n",
    "plt.xlabel = 'Quantity of components'\n",
    "plt.ylabel = 'Explained variance ratio'\n",
    "plt.bar(range(len(y)) , y)\n",
    "plt.show()"
   ]
  },
  {
   "cell_type": "code",
   "execution_count": 35,
   "metadata": {},
   "outputs": [
    {
     "data": {
      "image/png": "[encoded data removed]",
      "text/plain": [
       "<Figure size 1008x576 with 1 Axes>"
      ]
     },
     "metadata": {
      "needs_background": "light"
     },
     "output_type": "display_data"
    }
   ],
   "source": [
    "y = [cfdist_tfidf[doc].get(tfidf_top[3][0], 0) for doc in cfdist_tfidf.keys()]\n",
    "\n",
    "plt.figure(figsize=(14, 8))\n",
    "plt.title('Ditribución del top 4 a través de los documentos')\n",
    "plt.xlabel = 'Quantity of components'\n",
    "plt.ylabel = 'Explained variance ratio'\n",
    "plt.bar(range(len(y)) , y)\n",
    "plt.show()"
   ]
  },
  {
   "cell_type": "code",
   "execution_count": 36,
   "metadata": {},
   "outputs": [
    {
     "data": {
      "image/png": "[encoded data removed]",
      "text/plain": [
       "<Figure size 1008x576 with 1 Axes>"
      ]
     },
     "metadata": {
      "needs_background": "light"
     },
     "output_type": "display_data"
    }
   ],
   "source": [
    "y = [cfdist_tfidf[doc].get(tfidf_top[4][0], 0) for doc in cfdist_tfidf.keys()]\n",
    "\n",
    "plt.figure(figsize=(14, 8))\n",
    "plt.title('Ditribución del top 5 a través de los documentos')\n",
    "plt.xlabel = 'Quantity of components'\n",
    "plt.ylabel = 'Explained variance ratio'\n",
    "plt.bar(range(len(y)) , y)\n",
    "plt.show()"
   ]
  },
  {
   "cell_type": "markdown",
   "metadata": {},
   "source": [
    "##### Histogramas para el top 5 para la clase 1"
   ]
  },
  {
   "cell_type": "code",
   "execution_count": 37,
   "metadata": {},
   "outputs": [
    {
     "name": "stderr",
     "output_type": "stream",
     "text": [
      "100%|██████████| 5544/5544 [01:19<00:00, 69.51it/s]\n"
     ]
    }
   ],
   "source": [
    "cfdist_tfidf, tfidfs_log = compute_tfidf(docs_by_class[1])"
   ]
  },
  {
   "cell_type": "code",
   "execution_count": 38,
   "metadata": {},
   "outputs": [
    {
     "data": {
      "image/png": "[encoded data removed]",
      "text/plain": [
       "<Figure size 1008x576 with 1 Axes>"
      ]
     },
     "metadata": {
      "needs_background": "light"
     },
     "output_type": "display_data"
    }
   ],
   "source": [
    "y = [cfdist_tfidf[doc].get(tfidf_top[0][0], 0) for doc in cfdist_tfidf.keys()]\n",
    "\n",
    "plt.figure(figsize=(14, 8))\n",
    "plt.title('Ditribución del top 1 a través de los documentos')\n",
    "plt.xlabel = 'Quantity of components'\n",
    "plt.ylabel = 'Explained variance ratio'\n",
    "plt.bar(range(len(y)) , y)\n",
    "plt.show()"
   ]
  },
  {
   "cell_type": "code",
   "execution_count": 39,
   "metadata": {},
   "outputs": [
    {
     "data": {
      "image/png": "[encoded data removed]",
      "text/plain": [
       "<Figure size 1008x576 with 1 Axes>"
      ]
     },
     "metadata": {
      "needs_background": "light"
     },
     "output_type": "display_data"
    }
   ],
   "source": [
    "y = [cfdist_tfidf[doc].get(tfidf_top[1][0], 0) for doc in cfdist_tfidf.keys()]\n",
    "\n",
    "plt.figure(figsize=(14, 8))\n",
    "plt.title('Ditribución del top 2 a través de los documentos')\n",
    "plt.xlabel = 'Quantity of components'\n",
    "plt.ylabel = 'Explained variance ratio'\n",
    "plt.bar(range(len(y)) , y)\n",
    "plt.show()"
   ]
  },
  {
   "cell_type": "code",
   "execution_count": 40,
   "metadata": {},
   "outputs": [
    {
     "data": {
      "image/png": "[encoded data removed]",
      "text/plain": [
       "<Figure size 1008x576 with 1 Axes>"
      ]
     },
     "metadata": {
      "needs_background": "light"
     },
     "output_type": "display_data"
    }
   ],
   "source": [
    "y = [cfdist_tfidf[doc].get(tfidf_top[2][0], 0) for doc in cfdist_tfidf.keys()]\n",
    "\n",
    "plt.figure(figsize=(14, 8))\n",
    "plt.title('Ditribución del top 3 a través de los documentos')\n",
    "plt.xlabel = 'Quantity of components'\n",
    "plt.ylabel = 'Explained variance ratio'\n",
    "plt.bar(range(len(y)) , y)\n",
    "plt.show()"
   ]
  },
  {
   "cell_type": "code",
   "execution_count": 41,
   "metadata": {},
   "outputs": [
    {
     "data": {
      "image/png": "[encoded data removed]",
      "text/plain": [
       "<Figure size 1008x576 with 1 Axes>"
      ]
     },
     "metadata": {
      "needs_background": "light"
     },
     "output_type": "display_data"
    }
   ],
   "source": [
    "y = [cfdist_tfidf[doc].get(tfidf_top[3][0], 0) for doc in cfdist_tfidf.keys()]\n",
    "\n",
    "plt.figure(figsize=(14, 8))\n",
    "plt.title('Ditribución del top 4 a través de los documentos')\n",
    "plt.xlabel = 'Quantity of components'\n",
    "plt.ylabel = 'Explained variance ratio'\n",
    "plt.bar(range(len(y)) , y)\n",
    "plt.show()"
   ]
  },
  {
   "cell_type": "code",
   "execution_count": 42,
   "metadata": {},
   "outputs": [
    {
     "data": {
      "image/png": "[encoded data removed]",
      "text/plain": [
       "<Figure size 1008x576 with 1 Axes>"
      ]
     },
     "metadata": {
      "needs_background": "light"
     },
     "output_type": "display_data"
    }
   ],
   "source": [
    "y = [cfdist_tfidf[doc].get(tfidf_top[4][0], 0) for doc in cfdist_tfidf.keys()]\n",
    "\n",
    "plt.figure(figsize=(14, 8))\n",
    "plt.title('Ditribución del top 5 a través de los documentos')\n",
    "plt.xlabel = 'Quantity of components'\n",
    "plt.ylabel = 'Explained variance ratio'\n",
    "plt.bar(range(len(y)) , y)\n",
    "plt.show()"
   ]
  },
  {
   "cell_type": "markdown",
   "metadata": {},
   "source": [
    "Como se observa en las gráficas, mientras tengan un valor más alto de tfidf estás se encuentra acumuladas más en solo algunos docs,\n",
    "mientras más va decreciendo, la distribución su vuelve un poco más uniforme a lo largo de los documentos."
   ]
  },
  {
   "cell_type": "markdown",
   "metadata": {},
   "source": [
    "### 8. Haga una versión fonética del corpus usando algún diccionario. Ejemplo: https://github.com/Kyubyong/pron_dictionaries"
   ]
  },
  {
   "cell_type": "code",
   "execution_count": 43,
   "metadata": {},
   "outputs": [],
   "source": [
    "# Reading phonemes dict\n",
    "file_name = './data/phonemes_dict/es.csv'\n",
    "\n",
    "phonemes = {}\n",
    "\n",
    "with open(file_name, newline='') as csvfile:\n",
    "    spamreader = csv.reader(csvfile, delimiter=',', quotechar='|')\n",
    "    for row in spamreader:\n",
    "        phonemes[row[0]] = ' '.join(row[1:]).replace(' ', '')"
   ]
  },
  {
   "cell_type": "code",
   "execution_count": 44,
   "metadata": {},
   "outputs": [
    {
     "name": "stdout",
     "output_type": "stream",
     "text": [
      "lo̞ peˈoɾ ðe ˈtoðo es ke no me dan ˈpoɾ ˈun ˈtjempo i ˈlweɣo vuelven estoy ˈasta la ˈbeɾɰa ðe estl\n",
      "a la vga no ˈseas maˈmon 45 putos miˈnutos desˈpwes me dices ke apenas sales no me querías avisar en 3 horas ? 😑\n",
      "considero ke lo̞ ˈmas konβeˈnjen̪te seria ke lo̞ retes a ˈunos vergazos mi jelipe ! rómpele la ˈmaðɾe a ˈese pinchi ˈxoto !\n",
      "el maˈɾika ðe mi eks me tiene bloqueada ðe ˈtoðo así uno no ˈpweðe admiˈɾaɾ la \" beˈʝeθa \" ðe su garnacha 😂\n",
      "muˈxeɾ despechadaya ˈpintʃe amlo hazle ˈesta ke se pela la loca #reynosafollow #reynosa\n"
     ]
    }
   ],
   "source": [
    "corpus_phoneme = [[phonemes.get(word, word) for word in doc] for doc in docs]\n",
    "\n",
    "for tweet in corpus_phoneme[:5]:\n",
    "    print(' '.join(tweet))"
   ]
  }
 ],
 "metadata": {
  "kernelspec": {
   "display_name": "Python 3",
   "language": "python",
   "name": "python3"
  },
  "language_info": {
   "codemirror_mode": {
    "name": "ipython",
    "version": 3
   },
   "file_extension": ".py",
   "mimetype": "text/x-python",
   "name": "python",
   "nbconvert_exporter": "python",
   "pygments_lexer": "ipython3",
   "version": "3.7.6"
  }
 },
 "nbformat": 4,
 "nbformat_minor": 4
}
