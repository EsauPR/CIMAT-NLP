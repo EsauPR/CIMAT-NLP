{
 "cells": [
  {
   "cell_type": "markdown",
   "metadata": {},
   "source": [
    "# Oscar Esaú Peralta Rosales\n",
    "## Tarea 1: Fundamentos de Minería de Texto\n"
   ]
  },
  {
   "cell_type": "code",
   "execution_count": 107,
   "metadata": {},
   "outputs": [],
   "source": [
    "import csv\n",
    "import math\n",
    "import argparse\n",
    "\n",
    "from collections import defaultdict\n",
    "\n",
    "import numpy as np\n",
    "import pandas as pd\n",
    "\n",
    "from tqdm import tqdm\n",
    "from nltk.corpus import CategorizedPlaintextCorpusReader\n",
    "from nltk.tokenize import WordPunctTokenizer \n",
    "from nltk.tokenize import TweetTokenizer\n",
    "from nltk.corpus import stopwords\n",
    "\n",
    "from sklearn.preprocessing import LabelEncoder\n",
    "from sklearn.metrics import accuracy_score, confusion_matrix, f1_score, precision_recall_fscore_support, roc_auc_score\n",
    "from sklearn import metrics, preprocessing\n",
    "from sklearn import svm, datasets\n",
    "from sklearn.linear_model import LogisticRegression\n",
    "from sklearn.model_selection import GridSearchCV\n",
    "from sklearn.feature_selection import SelectKBest, chi2\n",
    "\n",
    "import matplotlib.pyplot as plt\n",
    "\n",
    "%matplotlib inline\n"
   ]
  },
  {
   "cell_type": "markdown",
   "metadata": {},
   "source": [
    "## Actividad 3: Detección de Agresividad con Análisis de Sentimiento Básico"
   ]
  },
  {
   "cell_type": "markdown",
   "metadata": {},
   "source": [
    "### 2.1 Experimentos Parte 1"
   ]
  },
  {
   "cell_type": "markdown",
   "metadata": {},
   "source": [
    "Carga de los datos"
   ]
  },
  {
   "cell_type": "code",
   "execution_count": 108,
   "metadata": {},
   "outputs": [],
   "source": [
    "mex_corpus = CategorizedPlaintextCorpusReader('./data/corpus/', r'.*\\.txt', cat_pattern=r'(\\w+)/*')"
   ]
  },
  {
   "cell_type": "code",
   "execution_count": 109,
   "metadata": {},
   "outputs": [],
   "source": [
    "tk = TweetTokenizer() \n",
    "stopw = stopwords.words('spanish') + stopwords.words('english')"
   ]
  },
  {
   "cell_type": "code",
   "execution_count": 110,
   "metadata": {},
   "outputs": [],
   "source": [
    "x_train = [ \n",
    "            [token for token in tk.tokenize(tweet) if token not in stopw and len(token) > 2]\n",
    "            for tweet in mex_corpus.raw('mex_train.txt').split('\\n') if tweet\n",
    "          ]\n",
    "y_train = [int(label) for label in mex_corpus.raw('mex_train_labels.txt').split('\\n') if label ]\n",
    "x_val = [ \n",
    "            [token for token in tk.tokenize(tweet) if token not in stopw and len(token) > 2]\n",
    "            for tweet in mex_corpus.raw('mex_val.txt').split('\\n') if tweet\n",
    "        ]\n",
    "y_val = [int(label) for label in mex_corpus.raw('mex_val_labels.txt').split('\\n') if label ]"
   ]
  },
  {
   "cell_type": "markdown",
   "metadata": {},
   "source": [
    "#### 1. Utilice el recurso léxico del Consejo Nacional de Investigación de Canadá llamado \"EmoLex\" (https://www.saifmohammad.com/WebPages/NRC-Emotion-Lexicon.htm) para construir una \"Bolsa de Emociones\" de los Tweets de agresividad (Debe usar EmoLex en Español). Para esto, una estrategia sencilla sería enmascarar cada palabra con su emoción, y después construir la Bolsa de Emociones.\n"
   ]
  },
  {
   "cell_type": "code",
   "execution_count": 111,
   "metadata": {},
   "outputs": [],
   "source": [
    "file_name = './data/NRC-Emotion-Lexicon-v0.92-In105Languages-Nov2017Translations.xlsx'"
   ]
  },
  {
   "cell_type": "code",
   "execution_count": 112,
   "metadata": {},
   "outputs": [],
   "source": [
    "df = pd.read_excel(file_name, usecols='CI,DB:DK')"
   ]
  },
  {
   "cell_type": "code",
   "execution_count": 113,
   "metadata": {},
   "outputs": [
    {
     "data": {
      "text/html": [
       "<div>\n",
       "<style scoped>\n",
       "    .dataframe tbody tr th:only-of-type {\n",
       "        vertical-align: middle;\n",
       "    }\n",
       "\n",
       "    .dataframe tbody tr th {\n",
       "        vertical-align: top;\n",
       "    }\n",
       "\n",
       "    .dataframe thead th {\n",
       "        text-align: right;\n",
       "    }\n",
       "</style>\n",
       "<table border=\"1\" class=\"dataframe\">\n",
       "  <thead>\n",
       "    <tr style=\"text-align: right;\">\n",
       "      <th></th>\n",
       "      <th>Spanish (es)</th>\n",
       "      <th>Positive</th>\n",
       "      <th>Negative</th>\n",
       "      <th>Anger</th>\n",
       "      <th>Anticipation</th>\n",
       "      <th>Disgust</th>\n",
       "      <th>Fear</th>\n",
       "      <th>Joy</th>\n",
       "      <th>Sadness</th>\n",
       "      <th>Surprise</th>\n",
       "      <th>Trust</th>\n",
       "    </tr>\n",
       "  </thead>\n",
       "  <tbody>\n",
       "    <tr>\n",
       "      <th>0</th>\n",
       "      <td>detrás</td>\n",
       "      <td>0</td>\n",
       "      <td>0</td>\n",
       "      <td>0</td>\n",
       "      <td>0</td>\n",
       "      <td>0</td>\n",
       "      <td>0</td>\n",
       "      <td>0</td>\n",
       "      <td>0</td>\n",
       "      <td>0</td>\n",
       "      <td>0</td>\n",
       "    </tr>\n",
       "    <tr>\n",
       "      <th>1</th>\n",
       "      <td>ábaco</td>\n",
       "      <td>0</td>\n",
       "      <td>0</td>\n",
       "      <td>0</td>\n",
       "      <td>0</td>\n",
       "      <td>0</td>\n",
       "      <td>0</td>\n",
       "      <td>0</td>\n",
       "      <td>0</td>\n",
       "      <td>0</td>\n",
       "      <td>1</td>\n",
       "    </tr>\n",
       "    <tr>\n",
       "      <th>2</th>\n",
       "      <td>abandonar</td>\n",
       "      <td>0</td>\n",
       "      <td>1</td>\n",
       "      <td>0</td>\n",
       "      <td>0</td>\n",
       "      <td>0</td>\n",
       "      <td>1</td>\n",
       "      <td>0</td>\n",
       "      <td>1</td>\n",
       "      <td>0</td>\n",
       "      <td>0</td>\n",
       "    </tr>\n",
       "    <tr>\n",
       "      <th>3</th>\n",
       "      <td>abandonado</td>\n",
       "      <td>0</td>\n",
       "      <td>1</td>\n",
       "      <td>1</td>\n",
       "      <td>0</td>\n",
       "      <td>0</td>\n",
       "      <td>1</td>\n",
       "      <td>0</td>\n",
       "      <td>1</td>\n",
       "      <td>0</td>\n",
       "      <td>0</td>\n",
       "    </tr>\n",
       "    <tr>\n",
       "      <th>4</th>\n",
       "      <td>abandono</td>\n",
       "      <td>0</td>\n",
       "      <td>1</td>\n",
       "      <td>1</td>\n",
       "      <td>0</td>\n",
       "      <td>0</td>\n",
       "      <td>1</td>\n",
       "      <td>0</td>\n",
       "      <td>1</td>\n",
       "      <td>1</td>\n",
       "      <td>0</td>\n",
       "    </tr>\n",
       "  </tbody>\n",
       "</table>\n",
       "</div>"
      ],
      "text/plain": [
       "  Spanish (es)  Positive  Negative  Anger  Anticipation  Disgust  Fear  Joy  \\\n",
       "0       detrás         0         0      0             0        0     0    0   \n",
       "1        ábaco         0         0      0             0        0     0    0   \n",
       "2    abandonar         0         1      0             0        0     1    0   \n",
       "3   abandonado         0         1      1             0        0     1    0   \n",
       "4     abandono         0         1      1             0        0     1    0   \n",
       "\n",
       "   Sadness  Surprise  Trust  \n",
       "0        0         0      0  \n",
       "1        0         0      1  \n",
       "2        1         0      0  \n",
       "3        1         0      0  \n",
       "4        1         1      0  "
      ]
     },
     "execution_count": 113,
     "metadata": {},
     "output_type": "execute_result"
    }
   ],
   "source": [
    "df.head()"
   ]
  },
  {
   "cell_type": "code",
   "execution_count": 114,
   "metadata": {},
   "outputs": [
    {
     "data": {
      "text/plain": [
       "[('absolución', 1, 0, 0, 0, 0, 0, 1, 0, 0, 1),\n",
       " ('absolutamente', 0, 0, 0, 0, 0, 0, 0, 0, 0, 0),\n",
       " ('absoluto', 1, 0, 0, 0, 0, 0, 0, 0, 0, 0),\n",
       " ('absorbente', 0, 0, 0, 0, 0, 0, 0, 0, 0, 0),\n",
       " ('absorbente', 0, 0, 0, 0, 0, 0, 0, 0, 0, 0),\n",
       " ('absorbido', 1, 0, 0, 0, 0, 0, 0, 0, 0, 0),\n",
       " ('absorción', 0, 0, 0, 0, 0, 0, 0, 0, 0, 0),\n",
       " ('absorto', 0, 0, 0, 0, 0, 0, 0, 0, 0, 0),\n",
       " ('abstención', 0, 0, 0, 0, 0, 0, 0, 0, 0, 0),\n",
       " ('abstenerse', 0, 0, 0, 0, 0, 0, 0, 0, 0, 0)]"
      ]
     },
     "execution_count": 114,
     "metadata": {},
     "output_type": "execute_result"
    }
   ],
   "source": [
    "spzip = zip(np.array([x.lower() for x in np.array(df['Spanish (es)'])]), \n",
    "            np.array(df['Positive']),\n",
    "            np.array(df['Negative']),\n",
    "            np.array(df['Anger']),\n",
    "            np.array(df['Anticipation']),\n",
    "            np.array(df['Disgust']),\n",
    "            np.array(df['Fear']),\n",
    "            np.array(df['Joy']),\n",
    "            np.array(df['Sadness']),\n",
    "            np.array(df['Surprise']),\n",
    "            np.array(df['Trust']))\n",
    "\n",
    "spanish_map = sorted(spzip, key=lambda item:item[0])\n",
    "spanish_map[100:110]"
   ]
  },
  {
   "cell_type": "code",
   "execution_count": 145,
   "metadata": {},
   "outputs": [],
   "source": [
    "def spanish_map_search(spanish_map, word):\n",
    "    \"\"\"Returns a array with the emotions for any word\"\"\"\n",
    "    word = word.lower()\n",
    "    i = 0\n",
    "    j = len(spanish_map) - 1\n",
    "    \n",
    "    while i < j:\n",
    "        m = int((i+j)/2)\n",
    "        match = spanish_map[m][0].lower()\n",
    "        if match == word:\n",
    "            return np.array(spanish_map[m][1:])\n",
    "        if word > match:\n",
    "            i = m + 1\n",
    "        else:\n",
    "            j = m - 1\n",
    "    \n",
    "    return np.zeros(10)"
   ]
  },
  {
   "cell_type": "code",
   "execution_count": 147,
   "metadata": {},
   "outputs": [
    {
     "data": {
      "text/plain": [
       "array([1, 0, 0, 0, 0, 0, 0, 0, 0, 0])"
      ]
     },
     "execution_count": 147,
     "metadata": {},
     "output_type": "execute_result"
    }
   ],
   "source": [
    "spanish_map_search(spanish_map, 'absorbido')"
   ]
  },
  {
   "cell_type": "code",
   "execution_count": 117,
   "metadata": {},
   "outputs": [],
   "source": [
    "def build_emotions_bow(docs, spanish_map, emotions=10):\n",
    "    \"\"\" Build a emotions bag \"\"\"\n",
    "    bow = np.zeros((len(docs), emotions), dtype=float)\n",
    "    \n",
    "    for index, doc in enumerate(tqdm(docs)):\n",
    "        for word in doc:\n",
    "            w_emotions = spanish_map_search(spanish_map, word)\n",
    "            bow[index] += w_emotions\n",
    "        \n",
    "    return bow"
   ]
  },
  {
   "cell_type": "code",
   "execution_count": 118,
   "metadata": {},
   "outputs": [
    {
     "name": "stderr",
     "output_type": "stream",
     "text": [
      "100%|██████████| 5544/5544 [00:00<00:00, 8669.30it/s]\n"
     ]
    }
   ],
   "source": [
    "bow = build_emotions_bow(x_train, spanish_map)"
   ]
  },
  {
   "cell_type": "markdown",
   "metadata": {},
   "source": [
    "#### 2. Representa a los documentos y clasifica con SVM como en la Practica de Clase 3. Evalúa varias representaciones, y ponga una tabla comparativa a modo de resumen (e.g., binario, frecuencia, tfidf, etc.)."
   ]
  },
  {
   "cell_type": "code",
   "execution_count": 148,
   "metadata": {},
   "outputs": [],
   "source": [
    "def classify(x_train, y_train, x_val, y_val, kbest=None):\n",
    "    \"\"\" Clasificación con SVM, feature selection with chi2 \"\"\"\n",
    "    parameters = {'C': [.05, .12, .25, .5, 1, 2, 4]}\n",
    "    \n",
    "    if kbest:\n",
    "        selectk = SelectKBest(chi2, k=kbest)\n",
    "        selectk.fit(x_train, y_train)\n",
    "        x_train = selectk.transform(x_train)\n",
    "        x_val = selectk.transform(x_val)\n",
    "    \n",
    "    svr = svm.LinearSVC(class_weight='balanced')\n",
    "    grid = GridSearchCV(estimator=svr, param_grid=parameters, n_jobs=8, scoring=\"f1_macro\", cv=5)\n",
    "    \n",
    "    grid.fit(x_train, y_train) \n",
    "\n",
    "    y_pred = grid.predict(x_val)\n",
    "\n",
    "    p, r, f, _ = precision_recall_fscore_support(y_val, y_pred, average='macro', pos_label=None)\n",
    "    a = accuracy_score(y_val, y_pred)\n",
    "    print(confusion_matrix(y_val, y_pred) )\n",
    "    print(metrics.classification_report(y_val, y_pred))\n",
    "    return p, r , f, a\n",
    "\n",
    "metrics_hist = []"
   ]
  },
  {
   "cell_type": "markdown",
   "metadata": {},
   "source": [
    "##### Bolsa de emociones binaria"
   ]
  },
  {
   "cell_type": "code",
   "execution_count": 120,
   "metadata": {},
   "outputs": [],
   "source": [
    "def build_binary_bow(emotions_bow):\n",
    "    \"\"\" Build a emotions binary bow \"\"\"\n",
    "    bow = emotions_bow.copy()\n",
    "    bow[bow > 0] = 1\n",
    "    return bow"
   ]
  },
  {
   "cell_type": "code",
   "execution_count": 121,
   "metadata": {},
   "outputs": [
    {
     "name": "stderr",
     "output_type": "stream",
     "text": [
      "100%|██████████| 5544/5544 [00:00<00:00, 8327.33it/s]\n",
      "100%|██████████| 616/616 [00:00<00:00, 9162.29it/s]\n"
     ]
    },
    {
     "name": "stdout",
     "output_type": "stream",
     "text": [
      "[[337  60]\n",
      " [155  64]]\n",
      "              precision    recall  f1-score   support\n",
      "\n",
      "           0       0.68      0.85      0.76       397\n",
      "           1       0.52      0.29      0.37       219\n",
      "\n",
      "    accuracy                           0.65       616\n",
      "   macro avg       0.60      0.57      0.57       616\n",
      "weighted avg       0.62      0.65      0.62       616\n",
      "\n"
     ]
    }
   ],
   "source": [
    "nx_train = build_binary_bow(build_emotions_bow(x_train, spanish_map))\n",
    "nx_val = build_binary_bow(build_emotions_bow(x_val, spanish_map))\n",
    "metrics_hist.append((\"Bolsa de emociones binaria\", \n",
    "                     *classify(nx_train, y_train, nx_val, y_val, kbest=None)))"
   ]
  },
  {
   "cell_type": "markdown",
   "metadata": {},
   "source": [
    "##### Bolsa de emociones frecuencias"
   ]
  },
  {
   "cell_type": "code",
   "execution_count": 122,
   "metadata": {},
   "outputs": [],
   "source": [
    "def build_frecs_bow(emotions_bow, normalize=False):\n",
    "    \"\"\" Build a emotions frequencies bow \"\"\"\n",
    "    # The bow already has the frequencies\n",
    "    bow = emotions_bow.copy()\n",
    "    if normalize:\n",
    "        for row in bow:\n",
    "            row /= np.linalg.norm(row) or 1.0\n",
    "    return bow"
   ]
  },
  {
   "cell_type": "code",
   "execution_count": 123,
   "metadata": {},
   "outputs": [
    {
     "name": "stderr",
     "output_type": "stream",
     "text": [
      "100%|██████████| 5544/5544 [00:00<00:00, 8688.39it/s]\n",
      "100%|██████████| 616/616 [00:00<00:00, 9414.03it/s]\n"
     ]
    },
    {
     "name": "stdout",
     "output_type": "stream",
     "text": [
      "[[333  64]\n",
      " [158  61]]\n",
      "              precision    recall  f1-score   support\n",
      "\n",
      "           0       0.68      0.84      0.75       397\n",
      "           1       0.49      0.28      0.35       219\n",
      "\n",
      "    accuracy                           0.64       616\n",
      "   macro avg       0.58      0.56      0.55       616\n",
      "weighted avg       0.61      0.64      0.61       616\n",
      "\n"
     ]
    }
   ],
   "source": [
    "nx_train = build_frecs_bow(build_emotions_bow(x_train, spanish_map))\n",
    "nx_val = build_frecs_bow(build_emotions_bow(x_val, spanish_map))\n",
    "metrics_hist.append((\"Bolsa de emociones frecuencias\", \n",
    "                     *classify(nx_train, y_train, nx_val, y_val, kbest=None)))"
   ]
  },
  {
   "cell_type": "markdown",
   "metadata": {},
   "source": [
    "Bolsa de emociones de frecuencias normalizadas"
   ]
  },
  {
   "cell_type": "code",
   "execution_count": 124,
   "metadata": {},
   "outputs": [
    {
     "name": "stderr",
     "output_type": "stream",
     "text": [
      "100%|██████████| 5544/5544 [00:00<00:00, 9044.83it/s]\n",
      "100%|██████████| 616/616 [00:00<00:00, 9185.90it/s]\n"
     ]
    },
    {
     "name": "stdout",
     "output_type": "stream",
     "text": [
      "[[325  72]\n",
      " [145  74]]\n",
      "              precision    recall  f1-score   support\n",
      "\n",
      "           0       0.69      0.82      0.75       397\n",
      "           1       0.51      0.34      0.41       219\n",
      "\n",
      "    accuracy                           0.65       616\n",
      "   macro avg       0.60      0.58      0.58       616\n",
      "weighted avg       0.63      0.65      0.63       616\n",
      "\n"
     ]
    }
   ],
   "source": [
    "nx_train = build_frecs_bow(build_emotions_bow(x_train, spanish_map), normalize=True)\n",
    "nx_val = build_frecs_bow(build_emotions_bow(x_val, spanish_map), normalize=True)\n",
    "metrics_hist.append((\"Bolsa de emociones frecuencias norm\", \n",
    "                     *classify(nx_train, y_train, nx_val, y_val, kbest=None)))"
   ]
  },
  {
   "cell_type": "markdown",
   "metadata": {},
   "source": [
    "##### Bolsa de emociones tfidf"
   ]
  },
  {
   "cell_type": "code",
   "execution_count": 125,
   "metadata": {},
   "outputs": [],
   "source": [
    "def build_tfidf_bow(emotions_bows, normalize=False):\n",
    "    \"\"\" Build a emotions tfidf bow \"\"\"\n",
    "    bows = emotions_bows.copy()\n",
    "    # compute tf\n",
    "    bows /= len(bows[0])\n",
    "    # Compute idf\n",
    "    ndocs_terms = np.sum(emotions_bows > 0, axis=0)\n",
    "    zeros = np.where(ndocs_terms == 0)[0]\n",
    "    ndocs_terms[zeros] = 1\n",
    "    for bow in bows:\n",
    "        bow *= np.log(emotions_bows.shape[0] / ndocs_terms)\n",
    "        bow[zeros] = 0.0\n",
    "        if normalize:\n",
    "            bow /= np.linalg.norm(bow) or 1.0\n",
    "    return bows"
   ]
  },
  {
   "cell_type": "code",
   "execution_count": 126,
   "metadata": {},
   "outputs": [
    {
     "name": "stderr",
     "output_type": "stream",
     "text": [
      "100%|██████████| 5544/5544 [00:00<00:00, 7988.11it/s]\n",
      "100%|██████████| 616/616 [00:00<00:00, 9006.33it/s]\n"
     ]
    },
    {
     "name": "stdout",
     "output_type": "stream",
     "text": [
      "[[336  61]\n",
      " [159  60]]\n",
      "              precision    recall  f1-score   support\n",
      "\n",
      "           0       0.68      0.85      0.75       397\n",
      "           1       0.50      0.27      0.35       219\n",
      "\n",
      "    accuracy                           0.64       616\n",
      "   macro avg       0.59      0.56      0.55       616\n",
      "weighted avg       0.61      0.64      0.61       616\n",
      "\n"
     ]
    }
   ],
   "source": [
    "nx_train = build_tfidf_bow(build_emotions_bow(x_train, spanish_map))\n",
    "nx_val = build_tfidf_bow(build_emotions_bow(x_val, spanish_map))\n",
    "metrics_hist.append((\"Bolsa de emociones tfidf\", \n",
    "                     *classify(nx_train, y_train, nx_val, y_val, kbest=None)))"
   ]
  },
  {
   "cell_type": "markdown",
   "metadata": {},
   "source": [
    "Bolsa de emociones tfidf normalizada"
   ]
  },
  {
   "cell_type": "code",
   "execution_count": 127,
   "metadata": {},
   "outputs": [
    {
     "name": "stderr",
     "output_type": "stream",
     "text": [
      "100%|██████████| 5544/5544 [00:00<00:00, 8885.97it/s]\n",
      "100%|██████████| 616/616 [00:00<00:00, 9012.08it/s]\n"
     ]
    },
    {
     "name": "stdout",
     "output_type": "stream",
     "text": [
      "[[333  64]\n",
      " [153  66]]\n",
      "              precision    recall  f1-score   support\n",
      "\n",
      "           0       0.69      0.84      0.75       397\n",
      "           1       0.51      0.30      0.38       219\n",
      "\n",
      "    accuracy                           0.65       616\n",
      "   macro avg       0.60      0.57      0.57       616\n",
      "weighted avg       0.62      0.65      0.62       616\n",
      "\n"
     ]
    }
   ],
   "source": [
    "nx_train = build_tfidf_bow(build_emotions_bow(x_train, spanish_map), normalize=True)\n",
    "nx_val = build_tfidf_bow(build_emotions_bow(x_val, spanish_map), normalize=True)\n",
    "metrics_hist.append((\"Bolsa de emociones tfidf norm\", \n",
    "                     *classify(nx_train, y_train, nx_val, y_val, kbest=None)))"
   ]
  },
  {
   "cell_type": "markdown",
   "metadata": {},
   "source": [
    "##### Tabla comparativa"
   ]
  },
  {
   "cell_type": "code",
   "execution_count": 138,
   "metadata": {},
   "outputs": [
    {
     "data": {
      "text/html": [
       "<div>\n",
       "<style scoped>\n",
       "    .dataframe tbody tr th:only-of-type {\n",
       "        vertical-align: middle;\n",
       "    }\n",
       "\n",
       "    .dataframe tbody tr th {\n",
       "        vertical-align: top;\n",
       "    }\n",
       "\n",
       "    .dataframe thead th {\n",
       "        text-align: right;\n",
       "    }\n",
       "</style>\n",
       "<table border=\"1\" class=\"dataframe\">\n",
       "  <thead>\n",
       "    <tr style=\"text-align: right;\">\n",
       "      <th></th>\n",
       "      <th>Embedding</th>\n",
       "      <th>Precision</th>\n",
       "      <th>Recall</th>\n",
       "      <th>Fscore</th>\n",
       "      <th>Accuracy</th>\n",
       "    </tr>\n",
       "  </thead>\n",
       "  <tbody>\n",
       "    <tr>\n",
       "      <th>0</th>\n",
       "      <td>Bolsa de emociones binaria</td>\n",
       "      <td>0.600544</td>\n",
       "      <td>0.570552</td>\n",
       "      <td>0.565667</td>\n",
       "      <td>0.650974</td>\n",
       "    </tr>\n",
       "    <tr>\n",
       "      <th>1</th>\n",
       "      <td>Bolsa de emociones frecuencias</td>\n",
       "      <td>0.583104</td>\n",
       "      <td>0.558665</td>\n",
       "      <td>0.552326</td>\n",
       "      <td>0.639610</td>\n",
       "    </tr>\n",
       "    <tr>\n",
       "      <th>2</th>\n",
       "      <td>Bolsa de emociones frecuencias norm</td>\n",
       "      <td>0.599169</td>\n",
       "      <td>0.578270</td>\n",
       "      <td>0.577596</td>\n",
       "      <td>0.647727</td>\n",
       "    </tr>\n",
       "    <tr>\n",
       "      <th>3</th>\n",
       "      <td>Bolsa de emociones tfidf</td>\n",
       "      <td>0.587328</td>\n",
       "      <td>0.560160</td>\n",
       "      <td>0.553152</td>\n",
       "      <td>0.642857</td>\n",
       "    </tr>\n",
       "    <tr>\n",
       "      <th>4</th>\n",
       "      <td>Bolsa de emociones tfidf norm</td>\n",
       "      <td>0.596439</td>\n",
       "      <td>0.570080</td>\n",
       "      <td>0.566235</td>\n",
       "      <td>0.647727</td>\n",
       "    </tr>\n",
       "  </tbody>\n",
       "</table>\n",
       "</div>"
      ],
      "text/plain": [
       "                             Embedding  Precision    Recall    Fscore  \\\n",
       "0           Bolsa de emociones binaria   0.600544  0.570552  0.565667   \n",
       "1       Bolsa de emociones frecuencias   0.583104  0.558665  0.552326   \n",
       "2  Bolsa de emociones frecuencias norm   0.599169  0.578270  0.577596   \n",
       "3             Bolsa de emociones tfidf   0.587328  0.560160  0.553152   \n",
       "4        Bolsa de emociones tfidf norm   0.596439  0.570080  0.566235   \n",
       "\n",
       "   Accuracy  \n",
       "0  0.650974  \n",
       "1  0.639610  \n",
       "2  0.647727  \n",
       "3  0.642857  \n",
       "4  0.647727  "
      ]
     },
     "execution_count": 138,
     "metadata": {},
     "output_type": "execute_result"
    }
   ],
   "source": [
    "dataset = pd.DataFrame(data=metrics_hist, columns = ['Embedding', 'Precision', 'Recall', 'Fscore', 'Accuracy'])\n",
    "dataset"
   ]
  }
 ],
 "metadata": {
  "kernelspec": {
   "display_name": "Python 3",
   "language": "python",
   "name": "python3"
  },
  "language_info": {
   "codemirror_mode": {
    "name": "ipython",
    "version": 3
   },
   "file_extension": ".py",
   "mimetype": "text/x-python",
   "name": "python",
   "nbconvert_exporter": "python",
   "pygments_lexer": "ipython3",
   "version": "3.7.6"
  }
 },
 "nbformat": 4,
 "nbformat_minor": 4
}
