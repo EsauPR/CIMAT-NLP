{
 "cells": [
  {
   "cell_type": "markdown",
   "metadata": {},
   "source": [
    "# Oscar Esaú Peralta Rosales\n",
    "## Tarea 1: Fundamentos de Minería de Texto\n"
   ]
  },
  {
   "cell_type": "code",
   "execution_count": 1,
   "metadata": {},
   "outputs": [],
   "source": [
    "import csv\n",
    "import math\n",
    "import argparse\n",
    "\n",
    "from collections import defaultdict\n",
    "\n",
    "import numpy as np\n",
    "import pandas as pd\n",
    "import unidecode\n",
    "\n",
    "from tqdm import tqdm\n",
    "from nltk.corpus import CategorizedPlaintextCorpusReader\n",
    "from nltk.tokenize import WordPunctTokenizer \n",
    "from nltk.tokenize import TweetTokenizer\n",
    "from nltk.corpus import stopwords\n",
    "\n",
    "from sklearn.preprocessing import LabelEncoder\n",
    "from sklearn.metrics import accuracy_score, confusion_matrix, f1_score, precision_recall_fscore_support, roc_auc_score\n",
    "from sklearn import metrics, preprocessing\n",
    "from sklearn import svm, datasets\n",
    "from sklearn.linear_model import LogisticRegression\n",
    "from sklearn.model_selection import GridSearchCV\n",
    "from sklearn.feature_selection import SelectKBest, chi2\n",
    "\n",
    "import matplotlib.pyplot as plt\n",
    "\n",
    "%matplotlib inline\n"
   ]
  },
  {
   "cell_type": "markdown",
   "metadata": {},
   "source": [
    "## Actividad 3: Detección de Agresividad con Análisis de Sentimiento Básico"
   ]
  },
  {
   "cell_type": "markdown",
   "metadata": {},
   "source": [
    "### Experimentos Parte 3"
   ]
  },
  {
   "cell_type": "markdown",
   "metadata": {},
   "source": [
    "Carga de los datos"
   ]
  },
  {
   "cell_type": "code",
   "execution_count": 2,
   "metadata": {},
   "outputs": [],
   "source": [
    "mex_corpus = CategorizedPlaintextCorpusReader('./data/corpus/', r'.*\\.txt', cat_pattern=r'(\\w+)/*')"
   ]
  },
  {
   "cell_type": "code",
   "execution_count": 3,
   "metadata": {},
   "outputs": [],
   "source": [
    "tk = TweetTokenizer() \n",
    "stopw = stopwords.words('spanish') + stopwords.words('english')"
   ]
  },
  {
   "cell_type": "code",
   "execution_count": 4,
   "metadata": {},
   "outputs": [],
   "source": [
    "x_train = [ \n",
    "            [token for token in tk.tokenize(tweet) if token not in stopw and len(token) > 2]\n",
    "            for tweet in mex_corpus.raw('mex_train.txt').split('\\n') if tweet\n",
    "          ]\n",
    "y_train = [int(label) for label in mex_corpus.raw('mex_train_labels.txt').split('\\n') if label ]\n",
    "x_val = [ \n",
    "            [token for token in tk.tokenize(tweet) if token not in stopw and len(token) > 2]\n",
    "            for tweet in mex_corpus.raw('mex_val.txt').split('\\n') if tweet\n",
    "        ]\n",
    "y_val = [int(label) for label in mex_corpus.raw('mex_val_labels.txt').split('\\n') if label ]"
   ]
  },
  {
   "cell_type": "markdown",
   "metadata": {},
   "source": [
    "#### 1. Utilice el recurso léxico de la actividad de representación fonética de esta tarea para construir una Bolsa de Palabras-Fonéticas. Evalúa varias representaciones (al menos binario, tf y tfidf), y ponga una tabla comparativa a modo de resumen."
   ]
  },
  {
   "cell_type": "code",
   "execution_count": 5,
   "metadata": {},
   "outputs": [
    {
     "name": "stderr",
     "output_type": "stream",
     "text": [
      "51637it [00:00, 91213.58it/s]\n"
     ]
    }
   ],
   "source": [
    "# Reading phonemes dict nd build vocab\n",
    "file_name = './data/phonemes_dict/es.csv'\n",
    "\n",
    "phonemes_map = {}\n",
    "phonemes_vocab = {}\n",
    "count = 0\n",
    "\n",
    "with open(file_name, newline='') as csvfile:\n",
    "    spamreader = csv.reader(csvfile, delimiter=',', quotechar='|')\n",
    "    start = False\n",
    "    for index, row in enumerate(tqdm(spamreader)):\n",
    "        if index == 0:\n",
    "            continue\n",
    "        word = unidecode.unidecode(row[0]).lower()\n",
    "        phonemes_map[word] = [''.join(fn.split(' ')) for fn in row[1].split('ˈ') if fn]\n",
    "        # Add phoneme to the vocab\n",
    "        for pf in phonemes_map[word]:\n",
    "            if not pf in phonemes_vocab:\n",
    "                phonemes_vocab[pf] = count\n",
    "                count += 1"
   ]
  },
  {
   "cell_type": "code",
   "execution_count": 6,
   "metadata": {},
   "outputs": [
    {
     "data": {
      "text/plain": [
       "27300"
      ]
     },
     "execution_count": 6,
     "metadata": {},
     "output_type": "execute_result"
    }
   ],
   "source": [
    "len(phonemes_vocab)"
   ]
  },
  {
   "cell_type": "markdown",
   "metadata": {},
   "source": [
    "Construcción de la bolsa de emociones"
   ]
  },
  {
   "cell_type": "code",
   "execution_count": 7,
   "metadata": {},
   "outputs": [],
   "source": [
    "def build_phonemes_bow(docs, phonemes_map, phonemes_vocab):\n",
    "    \"\"\" Build a phonemes bag \"\"\"\n",
    "    bows = np.zeros((len(docs), len(phonemes_vocab)), dtype=float)\n",
    "    \n",
    "    for index, doc in enumerate(tqdm(docs)):\n",
    "        for _word in doc:\n",
    "            word = unidecode.unidecode(_word)\n",
    "            if not word in phonemes_map:\n",
    "                continue\n",
    "                \n",
    "            for phome in phonemes_map[word]:\n",
    "                w_index = phonemes_vocab[phome]\n",
    "                bows[index][w_index] += 1\n",
    "    return bows"
   ]
  },
  {
   "cell_type": "code",
   "execution_count": 8,
   "metadata": {},
   "outputs": [
    {
     "name": "stderr",
     "output_type": "stream",
     "text": [
      "100%|██████████| 5544/5544 [00:00<00:00, 18274.33it/s]\n"
     ]
    },
    {
     "data": {
      "text/plain": [
       "(5544, 27300)"
      ]
     },
     "execution_count": 8,
     "metadata": {},
     "output_type": "execute_result"
    }
   ],
   "source": [
    "bow = build_phonemes_bow(x_train, phonemes_map, phonemes_vocab)\n",
    "bow.shape"
   ]
  },
  {
   "cell_type": "code",
   "execution_count": 9,
   "metadata": {},
   "outputs": [],
   "source": [
    "def classify(x_train, y_train, x_val, y_val, kbest=None):\n",
    "    \"\"\" Clasificación con SVM, feature selection with chi2 \"\"\"\n",
    "    parameters = {'C': [.05, .12, .25, .5, 1, 2, 4]}\n",
    "    \n",
    "    if kbest:\n",
    "        selectk = SelectKBest(chi2, k=kbest)\n",
    "        selectk.fit(x_train, y_train)\n",
    "        x_train = selectk.transform(x_train)\n",
    "        x_val = selectk.transform(x_val)\n",
    "    \n",
    "    svr = svm.LinearSVC(class_weight='balanced')\n",
    "    grid = GridSearchCV(estimator=svr, param_grid=parameters, n_jobs=8, scoring=\"f1_macro\", cv=5)\n",
    "    \n",
    "    grid.fit(x_train, y_train) \n",
    "\n",
    "    y_pred = grid.predict(x_val)\n",
    "\n",
    "    p, r, f, _ = precision_recall_fscore_support(y_val, y_pred, average='macro', pos_label=None)\n",
    "    a = accuracy_score(y_val, y_pred)\n",
    "    print(confusion_matrix(y_val, y_pred) )\n",
    "    print(metrics.classification_report(y_val, y_pred))\n",
    "    return p, r , f, a\n",
    "\n",
    "metrics_hist = []"
   ]
  },
  {
   "cell_type": "markdown",
   "metadata": {},
   "source": [
    "##### Bolsa de fonemas binaria"
   ]
  },
  {
   "cell_type": "code",
   "execution_count": 10,
   "metadata": {},
   "outputs": [],
   "source": [
    "def build_binary_bow(x, phonemes_map, phonemes_vocab):\n",
    "    \"\"\" Build a phonemes binary bow \"\"\"\n",
    "    bow = build_phonemes_bow(x, phonemes_map, phonemes_vocab)\n",
    "    bow[bow > 0] = 1\n",
    "    return bow"
   ]
  },
  {
   "cell_type": "code",
   "execution_count": 11,
   "metadata": {},
   "outputs": [
    {
     "name": "stderr",
     "output_type": "stream",
     "text": [
      "100%|██████████| 5544/5544 [00:00<00:00, 25719.49it/s]\n",
      "100%|██████████| 616/616 [00:00<00:00, 32402.26it/s]\n"
     ]
    },
    {
     "name": "stdout",
     "output_type": "stream",
     "text": [
      "[[311  86]\n",
      " [101 118]]\n",
      "              precision    recall  f1-score   support\n",
      "\n",
      "           0       0.75      0.78      0.77       397\n",
      "           1       0.58      0.54      0.56       219\n",
      "\n",
      "    accuracy                           0.70       616\n",
      "   macro avg       0.67      0.66      0.66       616\n",
      "weighted avg       0.69      0.70      0.69       616\n",
      "\n"
     ]
    }
   ],
   "source": [
    "nx_train = build_binary_bow(x_train, phonemes_map, phonemes_vocab)\n",
    "nx_val = build_binary_bow(x_val, phonemes_map, phonemes_vocab)\n",
    "metrics_hist.append((\"Bolsa de fonemas binaria\", \n",
    "                     *classify(nx_train, y_train, nx_val, y_val, kbest=3000)))"
   ]
  },
  {
   "cell_type": "markdown",
   "metadata": {},
   "source": [
    "##### Bolsa de emociones frecuencias"
   ]
  },
  {
   "cell_type": "code",
   "execution_count": 12,
   "metadata": {},
   "outputs": [],
   "source": [
    "def build_frecs_bow(x, phonemes_map, phonemes_vocab, normalize=False):\n",
    "    \"\"\" Build a emotions frequencies bow \"\"\"\n",
    "    # The bow already has the frequencies\n",
    "    bow = build_phonemes_bow(x, phonemes_map, phonemes_vocab)\n",
    "    if normalize:\n",
    "        for row in bow:\n",
    "            row /= np.linalg.norm(row) or 1.0\n",
    "    return bow"
   ]
  },
  {
   "cell_type": "code",
   "execution_count": 13,
   "metadata": {},
   "outputs": [
    {
     "name": "stderr",
     "output_type": "stream",
     "text": [
      "100%|██████████| 5544/5544 [00:00<00:00, 30158.69it/s]\n",
      "100%|██████████| 616/616 [00:00<00:00, 31356.24it/s]\n"
     ]
    },
    {
     "name": "stdout",
     "output_type": "stream",
     "text": [
      "[[309  88]\n",
      " [102 117]]\n",
      "              precision    recall  f1-score   support\n",
      "\n",
      "           0       0.75      0.78      0.76       397\n",
      "           1       0.57      0.53      0.55       219\n",
      "\n",
      "    accuracy                           0.69       616\n",
      "   macro avg       0.66      0.66      0.66       616\n",
      "weighted avg       0.69      0.69      0.69       616\n",
      "\n"
     ]
    }
   ],
   "source": [
    "nx_train = build_frecs_bow(x_train, phonemes_map, phonemes_vocab, normalize=False)\n",
    "nx_val = build_frecs_bow(x_val, phonemes_map, phonemes_vocab, normalize=False)\n",
    "metrics_hist.append((\"Bolsa de fonemas frecuencias\", \n",
    "                     *classify(nx_train, y_train, nx_val, y_val, kbest=3000)))"
   ]
  },
  {
   "cell_type": "markdown",
   "metadata": {},
   "source": [
    "Bolsa de emociones de frecuencias normalizadas"
   ]
  },
  {
   "cell_type": "code",
   "execution_count": 14,
   "metadata": {},
   "outputs": [
    {
     "name": "stderr",
     "output_type": "stream",
     "text": [
      "100%|██████████| 5544/5544 [00:00<00:00, 27195.35it/s]\n",
      "100%|██████████| 616/616 [00:00<00:00, 15437.37it/s]\n"
     ]
    },
    {
     "name": "stdout",
     "output_type": "stream",
     "text": [
      "[[308  89]\n",
      " [ 98 121]]\n",
      "              precision    recall  f1-score   support\n",
      "\n",
      "           0       0.76      0.78      0.77       397\n",
      "           1       0.58      0.55      0.56       219\n",
      "\n",
      "    accuracy                           0.70       616\n",
      "   macro avg       0.67      0.66      0.67       616\n",
      "weighted avg       0.69      0.70      0.69       616\n",
      "\n"
     ]
    }
   ],
   "source": [
    "nx_train = build_frecs_bow(x_train, phonemes_map, phonemes_vocab, normalize=True)\n",
    "nx_val = build_frecs_bow(x_val, phonemes_map, phonemes_vocab, normalize=True)\n",
    "metrics_hist.append((\"Bolsa de fonemas frecuencias\", \n",
    "                     *classify(nx_train, y_train, nx_val, y_val, kbest=3000)))"
   ]
  },
  {
   "cell_type": "markdown",
   "metadata": {},
   "source": [
    "##### Bolsa de emociones tfidf"
   ]
  },
  {
   "cell_type": "code",
   "execution_count": 15,
   "metadata": {},
   "outputs": [],
   "source": [
    "def build_tfidf_bow(x, phonemes_map, phonemes_vocab, normalize=False):\n",
    "    \"\"\" Build a emotions tfidf bow \"\"\"\n",
    "    bows = build_phonemes_bow(x, phonemes_map, phonemes_vocab)\n",
    "    \n",
    "    # Compute count of terms aparitions on documents\n",
    "    ndocs_terms = np.sum(bows > 0, axis=0)\n",
    "    zeros = np.where(ndocs_terms == 0)[0]\n",
    "    ndocs_terms[zeros] = 1\n",
    "\n",
    "    for index, bow in enumerate(bows):\n",
    "        # compute tf\n",
    "        bow /= np.sum(bow > 0) or 1\n",
    "        # compute tf*idf\n",
    "        bow *= np.log(bows.shape[0] / ndocs_terms)\n",
    "        bow[zeros] = 0.0\n",
    "        if normalize:\n",
    "            bow /= np.linalg.norm(bow) or 1.0\n",
    "    return bows"
   ]
  },
  {
   "cell_type": "code",
   "execution_count": 16,
   "metadata": {},
   "outputs": [
    {
     "name": "stderr",
     "output_type": "stream",
     "text": [
      "100%|██████████| 5544/5544 [00:00<00:00, 31187.22it/s]\n",
      "100%|██████████| 616/616 [00:00<00:00, 35422.63it/s]\n"
     ]
    },
    {
     "name": "stdout",
     "output_type": "stream",
     "text": [
      "[[317  80]\n",
      " [102 117]]\n",
      "              precision    recall  f1-score   support\n",
      "\n",
      "           0       0.76      0.80      0.78       397\n",
      "           1       0.59      0.53      0.56       219\n",
      "\n",
      "    accuracy                           0.70       616\n",
      "   macro avg       0.68      0.67      0.67       616\n",
      "weighted avg       0.70      0.70      0.70       616\n",
      "\n"
     ]
    }
   ],
   "source": [
    "nx_train = build_tfidf_bow(x_train, phonemes_map, phonemes_vocab, normalize=False)\n",
    "nx_val = build_tfidf_bow(x_val, phonemes_map, phonemes_vocab, normalize=False)\n",
    "metrics_hist.append((\"Bolsa de phonemas tfidf\", \n",
    "                     *classify(nx_train, y_train, nx_val, y_val, kbest=1000)))"
   ]
  },
  {
   "cell_type": "markdown",
   "metadata": {},
   "source": [
    "Bolsa de emociones tfidf normalizada"
   ]
  },
  {
   "cell_type": "code",
   "execution_count": 17,
   "metadata": {},
   "outputs": [
    {
     "name": "stderr",
     "output_type": "stream",
     "text": [
      "100%|██████████| 5544/5544 [00:00<00:00, 26635.02it/s]\n",
      "100%|██████████| 616/616 [00:00<00:00, 16330.25it/s]\n"
     ]
    },
    {
     "name": "stdout",
     "output_type": "stream",
     "text": [
      "[[315  82]\n",
      " [104 115]]\n",
      "              precision    recall  f1-score   support\n",
      "\n",
      "           0       0.75      0.79      0.77       397\n",
      "           1       0.58      0.53      0.55       219\n",
      "\n",
      "    accuracy                           0.70       616\n",
      "   macro avg       0.67      0.66      0.66       616\n",
      "weighted avg       0.69      0.70      0.69       616\n",
      "\n"
     ]
    }
   ],
   "source": [
    "nx_train = build_tfidf_bow(x_train, phonemes_map, phonemes_vocab, normalize=True)\n",
    "nx_val = build_tfidf_bow(x_val, phonemes_map, phonemes_vocab, normalize=True)\n",
    "metrics_hist.append((\"Bolsa de phonemas tfidf norm\", \n",
    "                     *classify(nx_train, y_train, nx_val, y_val, kbest=1000)))"
   ]
  },
  {
   "cell_type": "markdown",
   "metadata": {},
   "source": [
    "##### Tabla comparativa"
   ]
  },
  {
   "cell_type": "code",
   "execution_count": 18,
   "metadata": {},
   "outputs": [
    {
     "data": {
      "text/html": [
       "<div>\n",
       "<style scoped>\n",
       "    .dataframe tbody tr th:only-of-type {\n",
       "        vertical-align: middle;\n",
       "    }\n",
       "\n",
       "    .dataframe tbody tr th {\n",
       "        vertical-align: top;\n",
       "    }\n",
       "\n",
       "    .dataframe thead th {\n",
       "        text-align: right;\n",
       "    }\n",
       "</style>\n",
       "<table border=\"1\" class=\"dataframe\">\n",
       "  <thead>\n",
       "    <tr style=\"text-align: right;\">\n",
       "      <th></th>\n",
       "      <th>Embedding</th>\n",
       "      <th>Precision</th>\n",
       "      <th>Recall</th>\n",
       "      <th>Fscore</th>\n",
       "      <th>Accuracy</th>\n",
       "    </tr>\n",
       "  </thead>\n",
       "  <tbody>\n",
       "    <tr>\n",
       "      <th>0</th>\n",
       "      <td>Bolsa de fonemas binaria</td>\n",
       "      <td>0.666643</td>\n",
       "      <td>0.661094</td>\n",
       "      <td>0.663385</td>\n",
       "      <td>0.696429</td>\n",
       "    </tr>\n",
       "    <tr>\n",
       "      <th>1</th>\n",
       "      <td>Bolsa de fonemas frecuencias</td>\n",
       "      <td>0.661278</td>\n",
       "      <td>0.656292</td>\n",
       "      <td>0.658369</td>\n",
       "      <td>0.691558</td>\n",
       "    </tr>\n",
       "    <tr>\n",
       "      <th>2</th>\n",
       "      <td>Bolsa de fonemas frecuencias</td>\n",
       "      <td>0.667406</td>\n",
       "      <td>0.664165</td>\n",
       "      <td>0.665613</td>\n",
       "      <td>0.696429</td>\n",
       "    </tr>\n",
       "    <tr>\n",
       "      <th>3</th>\n",
       "      <td>Bolsa de phonemas tfidf</td>\n",
       "      <td>0.675236</td>\n",
       "      <td>0.666368</td>\n",
       "      <td>0.669730</td>\n",
       "      <td>0.704545</td>\n",
       "    </tr>\n",
       "    <tr>\n",
       "      <th>4</th>\n",
       "      <td>Bolsa de phonemas tfidf norm</td>\n",
       "      <td>0.667773</td>\n",
       "      <td>0.659283</td>\n",
       "      <td>0.662472</td>\n",
       "      <td>0.698052</td>\n",
       "    </tr>\n",
       "  </tbody>\n",
       "</table>\n",
       "</div>"
      ],
      "text/plain": [
       "                      Embedding  Precision    Recall    Fscore  Accuracy\n",
       "0      Bolsa de fonemas binaria   0.666643  0.661094  0.663385  0.696429\n",
       "1  Bolsa de fonemas frecuencias   0.661278  0.656292  0.658369  0.691558\n",
       "2  Bolsa de fonemas frecuencias   0.667406  0.664165  0.665613  0.696429\n",
       "3       Bolsa de phonemas tfidf   0.675236  0.666368  0.669730  0.704545\n",
       "4  Bolsa de phonemas tfidf norm   0.667773  0.659283  0.662472  0.698052"
      ]
     },
     "execution_count": 18,
     "metadata": {},
     "output_type": "execute_result"
    }
   ],
   "source": [
    "dataset = pd.DataFrame(data=metrics_hist, columns = ['Embedding', 'Precision', 'Recall', 'Fscore', 'Accuracy'])\n",
    "dataset"
   ]
  },
  {
   "cell_type": "code",
   "execution_count": null,
   "metadata": {},
   "outputs": [],
   "source": []
  }
 ],
 "metadata": {
  "kernelspec": {
   "display_name": "Python 3",
   "language": "python",
   "name": "python3"
  },
  "language_info": {
   "codemirror_mode": {
    "name": "ipython",
    "version": 3
   },
   "file_extension": ".py",
   "mimetype": "text/x-python",
   "name": "python",
   "nbconvert_exporter": "python",
   "pygments_lexer": "ipython3",
   "version": "3.7.6"
  }
 },
 "nbformat": 4,
 "nbformat_minor": 4
}
